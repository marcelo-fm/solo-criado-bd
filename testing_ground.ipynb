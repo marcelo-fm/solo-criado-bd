{
 "cells": [
  {
   "cell_type": "markdown",
   "metadata": {},
   "source": [
    "# Banco de dados Solo Criado: Take 1"
   ]
  },
  {
   "cell_type": "markdown",
   "metadata": {},
   "source": [
    "Vou fazer primeiro no notebook para ir testando, depois passo para o arquivo .py"
   ]
  },
  {
   "cell_type": "markdown",
   "metadata": {},
   "source": [
    "## Roadmap\n",
    "\n",
    "* Coletar listagem do site da prefeitura\n",
    "* Transformar pdf da listagem em xmls por este site\n",
    "* Transformar xmls em cvs\n",
    "* Carregar cvs de listagem para o banco de dados\n",
    "  * Extração;\n",
    "  * Exploração;\n",
    "  * Limpeza;\n",
    "  * Agregação;\n",
    "  * Visualização;\n",
    "  * Storytelling."
   ]
  },
  {
   "cell_type": "markdown",
   "metadata": {},
   "source": [
    "## Primeira parte: Coleta e transformação dos dados"
   ]
  },
  {
   "cell_type": "markdown",
   "metadata": {},
   "source": [
    "from [here](https://www.edureka.co/blog/web-scraping-with-python/): <br>\n",
    "Libraries used for Web Scraping  <br>\n",
    "As we know, Python is has various applications and there are different libraries for different purposes. In our further demonstration, we will be using the following libraries: <br>\n",
    "<br>\n",
    "**Selenium**:  Selenium is a web testing library. It is used to automate browser activities. <br>\n",
    "**BeautifulSoup**: Beautiful Soup is a Python package for parsing HTML and XML documents. It creates parse trees that is helpful to extract the data easily.<br>\n",
    "Pandas: Pandas is a library used for data manipulation and analysis. It is used to extract the data and store it in the desired format. "
   ]
  },
  {
   "cell_type": "markdown",
   "metadata": {},
   "source": [
    "Eu tenho que baixar com requests somente a parte que me interessa (div id=\"conteudo\" class=\"outros\") <br>\n",
    "Ou usar o bs4 pra retirar somente essa parte do todo"
   ]
  },
  {
   "cell_type": "markdown",
   "metadata": {},
   "source": [
    "O código abaixo recebe e cria um arquivo html com os dados da página de listagens."
   ]
  },
  {
   "cell_type": "code",
   "execution_count": 2,
   "metadata": {},
   "outputs": [],
   "source": [
    "#import requests\n",
    "#\n",
    "#url = 'http://www2.portoalegre.rs.gov.br/edificapoa/default.php?p_secao=1445'\n",
    "#r = requests.get(url)\n",
    "#\n",
    "#open('estoques.html', 'wb').write(r.content)"
   ]
  },
  {
   "cell_type": "markdown",
   "metadata": {},
   "source": [
    "O código abaixo (em andamento) serve para limpar o html e eventualmente retirar os links das listagens em pdf"
   ]
  },
  {
   "cell_type": "code",
   "execution_count": 3,
   "metadata": {},
   "outputs": [],
   "source": [
    "#from bs4 import BeautifulSoup\n",
    "#\n",
    "#with open('estoques.html') as fp:\n",
    "#    soup = BeautifulSoup(fp, 'html.parser')\n",
    "#\n",
    "#conteudo = soup.find(id=\"conteudo\")\n",
    "#conteudo.find_all('strong')\n",
    "#conteudo.find_all('a')\n",
    "#for link in conteudo.find_all('a'):\n",
    "#    print(link.get('href'))"
   ]
  },
  {
   "cell_type": "markdown",
   "metadata": {},
   "source": [
    "Ao longo do tempo o formato de cada entrada de listagem mudou, então o ideal seria criar uma lista com as listagens já existentes e ir adicionando com base na ultima listagem. O problema é se mudarem o formato de divulgação de novo. acho que vou focar somente na parte de banco de dados que á mais útil e confiável, por enquanto."
   ]
  },
  {
   "cell_type": "markdown",
   "metadata": {},
   "source": [
    "## Segunda parte: a criação do banco de dados"
   ]
  },
  {
   "cell_type": "markdown",
   "metadata": {},
   "source": [
    "### 1. Extração"
   ]
  },
  {
   "cell_type": "markdown",
   "metadata": {},
   "source": [
    "imports"
   ]
  },
  {
   "cell_type": "code",
   "execution_count": 4,
   "metadata": {},
   "outputs": [],
   "source": [
    "import pandas as pd\n",
    "import os\n",
    "#import numpy as np\n",
    "import functools as ft"
   ]
  },
  {
   "cell_type": "markdown",
   "metadata": {},
   "source": [
    "lista de arquivos"
   ]
  },
  {
   "cell_type": "code",
   "execution_count": 5,
   "metadata": {},
   "outputs": [
    {
     "name": "stdout",
     "output_type": "stream",
     "text": [
      "['estq-max-11.xlsx', 'estq-max-08.xlsx', 'estq-max-07.xlsx', 'estq-max-13.xlsx', 'estq-max-09.xlsx', 'estq-max-02.xlsx', 'estq-max-16.xlsx', 'estq-max-10.xlsx', 'estq-max-04.xlsx', 'estq-max-05.xlsx', 'estq-max-01.xlsx', 'estq-max-06.xlsx', 'estq-max-12.xlsx', 'estq-max-03.xlsx', 'estq-max-15.xlsx', 'estq-max-14.xlsx']\n"
     ]
    }
   ],
   "source": [
    "print(os.listdir(\"./dados/ListagemSoloCriado/XLSX\"))"
   ]
  },
  {
   "cell_type": "markdown",
   "metadata": {},
   "source": [
    "join_sheet"
   ]
  },
  {
   "cell_type": "code",
   "execution_count": 6,
   "metadata": {},
   "outputs": [],
   "source": [
    "def join_sheet(file):\n",
    "    \"\"\"Receives a excel file path and\n",
    "    returns a dataframe with his sheets\n",
    "    appended. Also fix third column name.\"\"\"\n",
    "\n",
    "    sheet_list = pd.ExcelFile(file).sheet_names\n",
    "    df_list = []\n",
    "    for sheet in sheet_list:\n",
    "        df_list.append(pd.read_excel(io=file, sheet_name=sheet, header=1))\n",
    "    \n",
    "    listagem = pd.concat(objs=df_list, ignore_index=True)\n",
    "    \n",
    "    colunas = listagem.columns.to_list()\n",
    "    colunas[-1] = 'estq_max_' + file[-7:-5]\n",
    "    listagem.columns = colunas\n",
    "\n",
    "    return listagem\n"
   ]
  },
  {
   "cell_type": "markdown",
   "metadata": {},
   "source": [
    "mzueuqrt"
   ]
  },
  {
   "cell_type": "code",
   "execution_count": 7,
   "metadata": {},
   "outputs": [],
   "source": [
    "def mzueuqrt(dataframe: list):\n",
    "    \"\"\"Receives a dataframe, adds\n",
    "    the MZUEUQRT column in the [-1]\n",
    "    position, and makes it the index.\"\"\"\n",
    "\n",
    "    new_columns = list(dataframe.columns)\n",
    "    new_columns.insert(-1, 'MZUEUQRT')\n",
    "    dataframe = dataframe.reindex(columns=new_columns)\n",
    "    #Agora vem o calculo da columa MZUEUQRT\n",
    "    \n",
    "    dataframe['MZUEUQRT'] = (dataframe['MZ']*1000000) + (dataframe['UEU']*1000) + (dataframe['QRT'])\n",
    "\n",
    "    return dataframe"
   ]
  },
  {
   "cell_type": "markdown",
   "metadata": {},
   "source": [
    "db_manager"
   ]
  },
  {
   "cell_type": "code",
   "execution_count": 8,
   "metadata": {},
   "outputs": [],
   "source": [
    "def db_manager(path=any, database=[]):\n",
    "    \"\"\"Receives a path to Excel files and \n",
    "    a list containing dataframes, checks if \n",
    "    there is any file that is not in the database, \n",
    "    adds the missing files to database if there is any \n",
    "    and returns the updated database.\"\"\"\n",
    "\n",
    "    files = os.listdir(path)\n",
    "    files.sort()\n",
    "    \n",
    "    if len(database) == len(files): #Não há nenhum dado novo a ser adicionado\n",
    "        print(\"O banco de dados já está atualizado.\")\n",
    "        return database\n",
    "    elif len(database) > len(files): #Há algum problema, pois o BD possui mais entradas do que a pasta de arquivos\n",
    "        print(\"O banco de dados possui mais entradas do que a pasta de arquivos\")\n",
    "        return database\n",
    "    elif len(database) < len(files): #Existem novas listagens que não foram adicionadas ao BD\n",
    "        print(\"O banco de dados está desatualizado\")\n",
    "        for i in range(len(database), len(files)):\n",
    "            listagem = mzueuqrt(join_sheet(path + \"/\" + files[i]))\n",
    "            listagem = listagem.set_index('MZUEUQRT')\n",
    "            database.append(listagem)\n",
    "            print(\"Adicionando listagem\", (i+1))\n",
    "\n",
    "    return database\n",
    "    "
   ]
  },
  {
   "cell_type": "markdown",
   "metadata": {},
   "source": [
    "Testando a função db_manager"
   ]
  },
  {
   "cell_type": "code",
   "execution_count": 9,
   "metadata": {},
   "outputs": [
    {
     "name": "stdout",
     "output_type": "stream",
     "text": [
      "O banco de dados está desatualizado\n",
      "Adicionando listagem 1\n",
      "Adicionando listagem 2\n",
      "Adicionando listagem 3\n",
      "Adicionando listagem 4\n",
      "Adicionando listagem 5\n",
      "Adicionando listagem 6\n",
      "Adicionando listagem 7\n",
      "Adicionando listagem 8\n",
      "Adicionando listagem 9\n",
      "Adicionando listagem 10\n",
      "Adicionando listagem 11\n",
      "Adicionando listagem 12\n",
      "Adicionando listagem 13\n",
      "Adicionando listagem 14\n",
      "Adicionando listagem 15\n",
      "Adicionando listagem 16\n"
     ]
    }
   ],
   "source": [
    "db_estq = db_manager(\"./dados/ListagemSoloCriado/XLSX\")\n"
   ]
  },
  {
   "cell_type": "code",
   "execution_count": 10,
   "metadata": {},
   "outputs": [],
   "source": [
    "#estq_max_01 = db_estq[0]\n",
    "#estq_max_02 = db_estq[1]\n",
    "#estq_max_03 = db_estq[2]\n",
    "#estq_max_04 = db_estq[3]\n",
    "#estq_max_05 = db_estq[4]\n",
    "#estq_max_06 = db_estq[5]\n",
    "#estq_max_07 = db_estq[6]\n",
    "#estq_max_08 = db_estq[7]\n",
    "#estq_max_09 = db_estq[8]\n",
    "#estq_max_10 = db_estq[9]\n",
    "#estq_max_11 = db_estq[10]\n",
    "#estq_max_12 = db_estq[11]\n",
    "#estq_max_13 = db_estq[12]\n",
    "#estq_max_14 = db_estq[13]\n",
    "#estq_max_15 = db_estq[14]\n",
    "#estq_max_16 = db_estq[15]"
   ]
  },
  {
   "cell_type": "markdown",
   "metadata": {},
   "source": [
    "### Agregação"
   ]
  },
  {
   "cell_type": "markdown",
   "metadata": {},
   "source": [
    "estoque_maximo"
   ]
  },
  {
   "cell_type": "code",
   "execution_count": 11,
   "metadata": {},
   "outputs": [],
   "source": [
    "def estoque_maximo(database):\n",
    "    \"\"\"Receives a database containing \n",
    "    all dataframes, and aggregates them.\"\"\"\n",
    "\n",
    "    estq_max = database[0]\n",
    "\n",
    "    for i in range(1, len(database)):\n",
    "        if i < 9: #Somente para não ter erro com a coluna da direita        \\/\n",
    "            estq_max = pd.merge(left=estq_max, right=database[i][('estq_max_0'+str(i+1))], how='outer', on='MZUEUQRT')\n",
    "        else:\n",
    "            estq_max = pd.merge(left=estq_max, right=database[i][('estq_max_'+str(i+1))], how='outer', on='MZUEUQRT')\n",
    "    \n",
    "    return estq_max"
   ]
  },
  {
   "cell_type": "markdown",
   "metadata": {},
   "source": [
    "testando a função estoque_maximo"
   ]
  },
  {
   "cell_type": "code",
   "execution_count": 12,
   "metadata": {},
   "outputs": [
    {
     "data": {
      "text/html": [
       "<div>\n",
       "<style scoped>\n",
       "    .dataframe tbody tr th:only-of-type {\n",
       "        vertical-align: middle;\n",
       "    }\n",
       "\n",
       "    .dataframe tbody tr th {\n",
       "        vertical-align: top;\n",
       "    }\n",
       "\n",
       "    .dataframe thead th {\n",
       "        text-align: right;\n",
       "    }\n",
       "</style>\n",
       "<table border=\"1\" class=\"dataframe\">\n",
       "  <thead>\n",
       "    <tr style=\"text-align: right;\">\n",
       "      <th></th>\n",
       "      <th>MZ</th>\n",
       "      <th>UEU</th>\n",
       "      <th>QRT</th>\n",
       "      <th>estq_max_01</th>\n",
       "      <th>estq_max_02</th>\n",
       "      <th>estq_max_03</th>\n",
       "      <th>estq_max_04</th>\n",
       "      <th>estq_max_05</th>\n",
       "      <th>estq_max_06</th>\n",
       "      <th>estq_max_07</th>\n",
       "      <th>estq_max_08</th>\n",
       "      <th>estq_max_09</th>\n",
       "      <th>estq_max_10</th>\n",
       "      <th>estq_max_11</th>\n",
       "      <th>estq_max_12</th>\n",
       "      <th>estq_max_13</th>\n",
       "      <th>estq_max_14</th>\n",
       "      <th>estq_max_15</th>\n",
       "      <th>estq_max_16</th>\n",
       "    </tr>\n",
       "    <tr>\n",
       "      <th>MZUEUQRT</th>\n",
       "      <th></th>\n",
       "      <th></th>\n",
       "      <th></th>\n",
       "      <th></th>\n",
       "      <th></th>\n",
       "      <th></th>\n",
       "      <th></th>\n",
       "      <th></th>\n",
       "      <th></th>\n",
       "      <th></th>\n",
       "      <th></th>\n",
       "      <th></th>\n",
       "      <th></th>\n",
       "      <th></th>\n",
       "      <th></th>\n",
       "      <th></th>\n",
       "      <th></th>\n",
       "      <th></th>\n",
       "      <th></th>\n",
       "    </tr>\n",
       "  </thead>\n",
       "  <tbody>\n",
       "    <tr>\n",
       "      <th>1002001</th>\n",
       "      <td>1.0</td>\n",
       "      <td>2.0</td>\n",
       "      <td>1.0</td>\n",
       "      <td>AE</td>\n",
       "      <td>NaN</td>\n",
       "      <td>NaN</td>\n",
       "      <td>NaN</td>\n",
       "      <td>NaN</td>\n",
       "      <td>NaN</td>\n",
       "      <td>NaN</td>\n",
       "      <td>NaN</td>\n",
       "      <td>NaN</td>\n",
       "      <td>NaN</td>\n",
       "      <td>NaN</td>\n",
       "      <td>NaN</td>\n",
       "      <td>NaN</td>\n",
       "      <td>NaN</td>\n",
       "      <td>NaN</td>\n",
       "      <td>NaN</td>\n",
       "    </tr>\n",
       "    <tr>\n",
       "      <th>1002003</th>\n",
       "      <td>1.0</td>\n",
       "      <td>2.0</td>\n",
       "      <td>3.0</td>\n",
       "      <td>AE</td>\n",
       "      <td>AE</td>\n",
       "      <td>AE</td>\n",
       "      <td>AE</td>\n",
       "      <td>AE</td>\n",
       "      <td>AE</td>\n",
       "      <td>AE</td>\n",
       "      <td>AE</td>\n",
       "      <td>AE</td>\n",
       "      <td>AE</td>\n",
       "      <td>AE</td>\n",
       "      <td>AE</td>\n",
       "      <td>AE</td>\n",
       "      <td>AE</td>\n",
       "      <td>AE</td>\n",
       "      <td>AE</td>\n",
       "    </tr>\n",
       "    <tr>\n",
       "      <th>1002005</th>\n",
       "      <td>1.0</td>\n",
       "      <td>2.0</td>\n",
       "      <td>5.0</td>\n",
       "      <td>AE</td>\n",
       "      <td>AE</td>\n",
       "      <td>AE</td>\n",
       "      <td>AE</td>\n",
       "      <td>AE</td>\n",
       "      <td>AE</td>\n",
       "      <td>AE</td>\n",
       "      <td>AE</td>\n",
       "      <td>AE</td>\n",
       "      <td>AE</td>\n",
       "      <td>AE</td>\n",
       "      <td>AE</td>\n",
       "      <td>AE</td>\n",
       "      <td>AE</td>\n",
       "      <td>AE</td>\n",
       "      <td>AE</td>\n",
       "    </tr>\n",
       "    <tr>\n",
       "      <th>1004003</th>\n",
       "      <td>1.0</td>\n",
       "      <td>4.0</td>\n",
       "      <td>3.0</td>\n",
       "      <td>AE</td>\n",
       "      <td>AE</td>\n",
       "      <td>AE</td>\n",
       "      <td>AE</td>\n",
       "      <td>AE</td>\n",
       "      <td>AE</td>\n",
       "      <td>AE</td>\n",
       "      <td>AE</td>\n",
       "      <td>AE</td>\n",
       "      <td>AE</td>\n",
       "      <td>AE</td>\n",
       "      <td>AE</td>\n",
       "      <td>AE</td>\n",
       "      <td>AE</td>\n",
       "      <td>AE</td>\n",
       "      <td>AE</td>\n",
       "    </tr>\n",
       "    <tr>\n",
       "      <th>1004005</th>\n",
       "      <td>1.0</td>\n",
       "      <td>4.0</td>\n",
       "      <td>5.0</td>\n",
       "      <td>1388.5667</td>\n",
       "      <td>1388.5667</td>\n",
       "      <td>1388.5667</td>\n",
       "      <td>1388.5667</td>\n",
       "      <td>1388.5667</td>\n",
       "      <td>1388.5667</td>\n",
       "      <td>1388.5667</td>\n",
       "      <td>1388.5667</td>\n",
       "      <td>1388.5667</td>\n",
       "      <td>1388.5667</td>\n",
       "      <td>1388.5667</td>\n",
       "      <td>2540.07</td>\n",
       "      <td>2540.07</td>\n",
       "      <td>2540.07</td>\n",
       "      <td>2540.07</td>\n",
       "      <td>2540.07</td>\n",
       "    </tr>\n",
       "    <tr>\n",
       "      <th>...</th>\n",
       "      <td>...</td>\n",
       "      <td>...</td>\n",
       "      <td>...</td>\n",
       "      <td>...</td>\n",
       "      <td>...</td>\n",
       "      <td>...</td>\n",
       "      <td>...</td>\n",
       "      <td>...</td>\n",
       "      <td>...</td>\n",
       "      <td>...</td>\n",
       "      <td>...</td>\n",
       "      <td>...</td>\n",
       "      <td>...</td>\n",
       "      <td>...</td>\n",
       "      <td>...</td>\n",
       "      <td>...</td>\n",
       "      <td>...</td>\n",
       "      <td>...</td>\n",
       "      <td>...</td>\n",
       "    </tr>\n",
       "    <tr>\n",
       "      <th>3140089</th>\n",
       "      <td>NaN</td>\n",
       "      <td>NaN</td>\n",
       "      <td>NaN</td>\n",
       "      <td>NaN</td>\n",
       "      <td>NaN</td>\n",
       "      <td>NaN</td>\n",
       "      <td>NaN</td>\n",
       "      <td>NaN</td>\n",
       "      <td>NaN</td>\n",
       "      <td>NaN</td>\n",
       "      <td>NaN</td>\n",
       "      <td>NaN</td>\n",
       "      <td>NaN</td>\n",
       "      <td>NaN</td>\n",
       "      <td>NaN</td>\n",
       "      <td>NaN</td>\n",
       "      <td>NaN</td>\n",
       "      <td>0.0</td>\n",
       "      <td>0.0</td>\n",
       "    </tr>\n",
       "    <tr>\n",
       "      <th>3140091</th>\n",
       "      <td>NaN</td>\n",
       "      <td>NaN</td>\n",
       "      <td>NaN</td>\n",
       "      <td>NaN</td>\n",
       "      <td>NaN</td>\n",
       "      <td>NaN</td>\n",
       "      <td>NaN</td>\n",
       "      <td>NaN</td>\n",
       "      <td>NaN</td>\n",
       "      <td>NaN</td>\n",
       "      <td>NaN</td>\n",
       "      <td>NaN</td>\n",
       "      <td>NaN</td>\n",
       "      <td>NaN</td>\n",
       "      <td>NaN</td>\n",
       "      <td>NaN</td>\n",
       "      <td>NaN</td>\n",
       "      <td>AE</td>\n",
       "      <td>AE</td>\n",
       "    </tr>\n",
       "    <tr>\n",
       "      <th>3140093</th>\n",
       "      <td>NaN</td>\n",
       "      <td>NaN</td>\n",
       "      <td>NaN</td>\n",
       "      <td>NaN</td>\n",
       "      <td>NaN</td>\n",
       "      <td>NaN</td>\n",
       "      <td>NaN</td>\n",
       "      <td>NaN</td>\n",
       "      <td>NaN</td>\n",
       "      <td>NaN</td>\n",
       "      <td>NaN</td>\n",
       "      <td>NaN</td>\n",
       "      <td>NaN</td>\n",
       "      <td>NaN</td>\n",
       "      <td>NaN</td>\n",
       "      <td>NaN</td>\n",
       "      <td>NaN</td>\n",
       "      <td>7252.26</td>\n",
       "      <td>7252.26</td>\n",
       "    </tr>\n",
       "    <tr>\n",
       "      <th>3140095</th>\n",
       "      <td>NaN</td>\n",
       "      <td>NaN</td>\n",
       "      <td>NaN</td>\n",
       "      <td>NaN</td>\n",
       "      <td>NaN</td>\n",
       "      <td>NaN</td>\n",
       "      <td>NaN</td>\n",
       "      <td>NaN</td>\n",
       "      <td>NaN</td>\n",
       "      <td>NaN</td>\n",
       "      <td>NaN</td>\n",
       "      <td>NaN</td>\n",
       "      <td>NaN</td>\n",
       "      <td>NaN</td>\n",
       "      <td>NaN</td>\n",
       "      <td>NaN</td>\n",
       "      <td>NaN</td>\n",
       "      <td>0.0</td>\n",
       "      <td>0.0</td>\n",
       "    </tr>\n",
       "    <tr>\n",
       "      <th>3140097</th>\n",
       "      <td>NaN</td>\n",
       "      <td>NaN</td>\n",
       "      <td>NaN</td>\n",
       "      <td>NaN</td>\n",
       "      <td>NaN</td>\n",
       "      <td>NaN</td>\n",
       "      <td>NaN</td>\n",
       "      <td>NaN</td>\n",
       "      <td>NaN</td>\n",
       "      <td>NaN</td>\n",
       "      <td>NaN</td>\n",
       "      <td>NaN</td>\n",
       "      <td>NaN</td>\n",
       "      <td>NaN</td>\n",
       "      <td>NaN</td>\n",
       "      <td>NaN</td>\n",
       "      <td>NaN</td>\n",
       "      <td>AE</td>\n",
       "      <td>AE</td>\n",
       "    </tr>\n",
       "  </tbody>\n",
       "</table>\n",
       "<p>6283 rows × 19 columns</p>\n",
       "</div>"
      ],
      "text/plain": [
       "           MZ  UEU  QRT estq_max_01 estq_max_02 estq_max_03 estq_max_04  \\\n",
       "MZUEUQRT                                                                  \n",
       "1002001   1.0  2.0  1.0          AE         NaN         NaN         NaN   \n",
       "1002003   1.0  2.0  3.0          AE          AE          AE          AE   \n",
       "1002005   1.0  2.0  5.0          AE          AE          AE          AE   \n",
       "1004003   1.0  4.0  3.0          AE          AE          AE          AE   \n",
       "1004005   1.0  4.0  5.0   1388.5667   1388.5667   1388.5667   1388.5667   \n",
       "...       ...  ...  ...         ...         ...         ...         ...   \n",
       "3140089   NaN  NaN  NaN         NaN         NaN         NaN         NaN   \n",
       "3140091   NaN  NaN  NaN         NaN         NaN         NaN         NaN   \n",
       "3140093   NaN  NaN  NaN         NaN         NaN         NaN         NaN   \n",
       "3140095   NaN  NaN  NaN         NaN         NaN         NaN         NaN   \n",
       "3140097   NaN  NaN  NaN         NaN         NaN         NaN         NaN   \n",
       "\n",
       "         estq_max_05 estq_max_06 estq_max_07 estq_max_08 estq_max_09  \\\n",
       "MZUEUQRT                                                               \n",
       "1002001          NaN         NaN         NaN         NaN         NaN   \n",
       "1002003           AE          AE          AE          AE          AE   \n",
       "1002005           AE          AE          AE          AE          AE   \n",
       "1004003           AE          AE          AE          AE          AE   \n",
       "1004005    1388.5667   1388.5667   1388.5667   1388.5667   1388.5667   \n",
       "...              ...         ...         ...         ...         ...   \n",
       "3140089          NaN         NaN         NaN         NaN         NaN   \n",
       "3140091          NaN         NaN         NaN         NaN         NaN   \n",
       "3140093          NaN         NaN         NaN         NaN         NaN   \n",
       "3140095          NaN         NaN         NaN         NaN         NaN   \n",
       "3140097          NaN         NaN         NaN         NaN         NaN   \n",
       "\n",
       "         estq_max_10 estq_max_11 estq_max_12 estq_max_13 estq_max_14  \\\n",
       "MZUEUQRT                                                               \n",
       "1002001          NaN         NaN         NaN         NaN         NaN   \n",
       "1002003           AE          AE          AE          AE          AE   \n",
       "1002005           AE          AE          AE          AE          AE   \n",
       "1004003           AE          AE          AE          AE          AE   \n",
       "1004005    1388.5667   1388.5667     2540.07     2540.07     2540.07   \n",
       "...              ...         ...         ...         ...         ...   \n",
       "3140089          NaN         NaN         NaN         NaN         NaN   \n",
       "3140091          NaN         NaN         NaN         NaN         NaN   \n",
       "3140093          NaN         NaN         NaN         NaN         NaN   \n",
       "3140095          NaN         NaN         NaN         NaN         NaN   \n",
       "3140097          NaN         NaN         NaN         NaN         NaN   \n",
       "\n",
       "         estq_max_15 estq_max_16  \n",
       "MZUEUQRT                          \n",
       "1002001          NaN         NaN  \n",
       "1002003           AE          AE  \n",
       "1002005           AE          AE  \n",
       "1004003           AE          AE  \n",
       "1004005      2540.07     2540.07  \n",
       "...              ...         ...  \n",
       "3140089          0.0         0.0  \n",
       "3140091           AE          AE  \n",
       "3140093      7252.26     7252.26  \n",
       "3140095          0.0         0.0  \n",
       "3140097           AE          AE  \n",
       "\n",
       "[6283 rows x 19 columns]"
      ]
     },
     "execution_count": 12,
     "metadata": {},
     "output_type": "execute_result"
    }
   ],
   "source": [
    "estq_max_num = estoque_maximo(db_estq)\n",
    "estq_max_num"
   ]
  },
  {
   "cell_type": "markdown",
   "metadata": {},
   "source": [
    "Agora uma função que cria o dataframe de uso de solo criado"
   ]
  },
  {
   "cell_type": "code",
   "execution_count": null,
   "metadata": {},
   "outputs": [],
   "source": []
  },
  {
   "cell_type": "code",
   "execution_count": null,
   "metadata": {},
   "outputs": [],
   "source": []
  },
  {
   "cell_type": "code",
   "execution_count": 22,
   "metadata": {},
   "outputs": [
    {
     "data": {
      "text/html": [
       "<div>\n",
       "<style scoped>\n",
       "    .dataframe tbody tr th:only-of-type {\n",
       "        vertical-align: middle;\n",
       "    }\n",
       "\n",
       "    .dataframe tbody tr th {\n",
       "        vertical-align: top;\n",
       "    }\n",
       "\n",
       "    .dataframe thead th {\n",
       "        text-align: right;\n",
       "    }\n",
       "</style>\n",
       "<table border=\"1\" class=\"dataframe\">\n",
       "  <thead>\n",
       "    <tr style=\"text-align: right;\">\n",
       "      <th></th>\n",
       "      <th>a</th>\n",
       "      <th>b</th>\n",
       "      <th>c</th>\n",
       "    </tr>\n",
       "  </thead>\n",
       "  <tbody>\n",
       "    <tr>\n",
       "      <th>0</th>\n",
       "      <td>1</td>\n",
       "      <td>2</td>\n",
       "      <td>-1</td>\n",
       "    </tr>\n",
       "    <tr>\n",
       "      <th>1</th>\n",
       "      <td>2</td>\n",
       "      <td>3</td>\n",
       "      <td>-1</td>\n",
       "    </tr>\n",
       "    <tr>\n",
       "      <th>2</th>\n",
       "      <td>3</td>\n",
       "      <td>4</td>\n",
       "      <td>-1</td>\n",
       "    </tr>\n",
       "  </tbody>\n",
       "</table>\n",
       "</div>"
      ],
      "text/plain": [
       "   a  b  c\n",
       "0  1  2 -1\n",
       "1  2  3 -1\n",
       "2  3  4 -1"
      ]
     },
     "execution_count": 22,
     "metadata": {},
     "output_type": "execute_result"
    }
   ],
   "source": [
    "teste = pd.DataFrame({'a': [1, 2, 3], 'b': [2, 3, 4], 'c': [3, 4, 5]})\n",
    "\n",
    "colunas = list(teste.columns)\n",
    "teste[colunas[2]] = teste[colunas[0]] - teste[colunas[1]]\n",
    "teste"
   ]
  },
  {
   "cell_type": "code",
   "execution_count": 32,
   "metadata": {},
   "outputs": [],
   "source": [
    "def uso_estoque(tabela, porc=False): # problema é os valores AE\n",
    "     colunas = list(tabela.columns)\n",
    "     if porc:\n",
    "          porcentagem = (100 / tabela[colunas[3]])\n",
    "          porc_name = '%_'\n",
    "     else:\n",
    "          porcentagem = 1\n",
    "          porc_name = ''\n",
    "     \n",
    "     \n",
    "     for i in range(4, len(colunas)):\n",
    "          tabela[colunas[i]] = tabela[colunas[3]].apply(float) - tabela[colunas[i]].apply(float)\n",
    "          colunas[i] = 'uso_estq_' + porc_name + colunas[i][-2:]\n",
    "     \n",
    "     colunas[3] = 'uso_estq_' + colunas[3][-2:]\n",
    "     tabela.columns = colunas\n",
    "     \n",
    "     return tabela"
   ]
  },
  {
   "cell_type": "code",
   "execution_count": 33,
   "metadata": {},
   "outputs": [
    {
     "ename": "ValueError",
     "evalue": "could not convert string to float: 'AE'",
     "output_type": "error",
     "traceback": [
      "\u001b[0;31m---------------------------------------------------------------------------\u001b[0m",
      "\u001b[0;31mValueError\u001b[0m                                Traceback (most recent call last)",
      "\u001b[0;32m/tmp/ipykernel_49661/2918915775.py\u001b[0m in \u001b[0;36m<module>\u001b[0;34m\u001b[0m\n\u001b[0;32m----> 1\u001b[0;31m \u001b[0muso_estq\u001b[0m \u001b[0;34m=\u001b[0m \u001b[0muso_estoque\u001b[0m\u001b[0;34m(\u001b[0m\u001b[0mestq_max_num\u001b[0m\u001b[0;34m)\u001b[0m\u001b[0;34m\u001b[0m\u001b[0;34m\u001b[0m\u001b[0m\n\u001b[0m\u001b[1;32m      2\u001b[0m \u001b[0;31m#uso_estq_porc = uso_estoque(estq_max_num, porc=True)\u001b[0m\u001b[0;34m\u001b[0m\u001b[0;34m\u001b[0m\u001b[0m\n",
      "\u001b[0;32m/tmp/ipykernel_49661/258144237.py\u001b[0m in \u001b[0;36muso_estoque\u001b[0;34m(tabela, porc)\u001b[0m\n\u001b[1;32m     10\u001b[0m \u001b[0;34m\u001b[0m\u001b[0m\n\u001b[1;32m     11\u001b[0m      \u001b[0;32mfor\u001b[0m \u001b[0mi\u001b[0m \u001b[0;32min\u001b[0m \u001b[0mrange\u001b[0m\u001b[0;34m(\u001b[0m\u001b[0;36m4\u001b[0m\u001b[0;34m,\u001b[0m \u001b[0mlen\u001b[0m\u001b[0;34m(\u001b[0m\u001b[0mcolunas\u001b[0m\u001b[0;34m)\u001b[0m\u001b[0;34m)\u001b[0m\u001b[0;34m:\u001b[0m\u001b[0;34m\u001b[0m\u001b[0;34m\u001b[0m\u001b[0m\n\u001b[0;32m---> 12\u001b[0;31m           \u001b[0mtabela\u001b[0m\u001b[0;34m[\u001b[0m\u001b[0mcolunas\u001b[0m\u001b[0;34m[\u001b[0m\u001b[0mi\u001b[0m\u001b[0;34m]\u001b[0m\u001b[0;34m]\u001b[0m \u001b[0;34m=\u001b[0m \u001b[0mtabela\u001b[0m\u001b[0;34m[\u001b[0m\u001b[0mcolunas\u001b[0m\u001b[0;34m[\u001b[0m\u001b[0;36m3\u001b[0m\u001b[0;34m]\u001b[0m\u001b[0;34m]\u001b[0m\u001b[0;34m.\u001b[0m\u001b[0mapply\u001b[0m\u001b[0;34m(\u001b[0m\u001b[0mfloat\u001b[0m\u001b[0;34m)\u001b[0m \u001b[0;34m-\u001b[0m \u001b[0mtabela\u001b[0m\u001b[0;34m[\u001b[0m\u001b[0mcolunas\u001b[0m\u001b[0;34m[\u001b[0m\u001b[0mi\u001b[0m\u001b[0;34m]\u001b[0m\u001b[0;34m]\u001b[0m\u001b[0;34m.\u001b[0m\u001b[0mapply\u001b[0m\u001b[0;34m(\u001b[0m\u001b[0mfloat\u001b[0m\u001b[0;34m)\u001b[0m\u001b[0;34m\u001b[0m\u001b[0;34m\u001b[0m\u001b[0m\n\u001b[0m\u001b[1;32m     13\u001b[0m           \u001b[0mcolunas\u001b[0m\u001b[0;34m[\u001b[0m\u001b[0mi\u001b[0m\u001b[0;34m]\u001b[0m \u001b[0;34m=\u001b[0m \u001b[0;34m'uso_estq_'\u001b[0m \u001b[0;34m+\u001b[0m \u001b[0mporc_name\u001b[0m \u001b[0;34m+\u001b[0m \u001b[0mcolunas\u001b[0m\u001b[0;34m[\u001b[0m\u001b[0mi\u001b[0m\u001b[0;34m]\u001b[0m\u001b[0;34m[\u001b[0m\u001b[0;34m-\u001b[0m\u001b[0;36m2\u001b[0m\u001b[0;34m:\u001b[0m\u001b[0;34m]\u001b[0m\u001b[0;34m\u001b[0m\u001b[0;34m\u001b[0m\u001b[0m\n\u001b[1;32m     14\u001b[0m \u001b[0;34m\u001b[0m\u001b[0m\n",
      "\u001b[0;32m~/.local/lib/python3.10/site-packages/pandas/core/series.py\u001b[0m in \u001b[0;36mapply\u001b[0;34m(self, func, convert_dtype, args, **kwargs)\u001b[0m\n\u001b[1;32m   4431\u001b[0m         \u001b[0mdtype\u001b[0m\u001b[0;34m:\u001b[0m \u001b[0mfloat64\u001b[0m\u001b[0;34m\u001b[0m\u001b[0;34m\u001b[0m\u001b[0m\n\u001b[1;32m   4432\u001b[0m         \"\"\"\n\u001b[0;32m-> 4433\u001b[0;31m         \u001b[0;32mreturn\u001b[0m \u001b[0mSeriesApply\u001b[0m\u001b[0;34m(\u001b[0m\u001b[0mself\u001b[0m\u001b[0;34m,\u001b[0m \u001b[0mfunc\u001b[0m\u001b[0;34m,\u001b[0m \u001b[0mconvert_dtype\u001b[0m\u001b[0;34m,\u001b[0m \u001b[0margs\u001b[0m\u001b[0;34m,\u001b[0m \u001b[0mkwargs\u001b[0m\u001b[0;34m)\u001b[0m\u001b[0;34m.\u001b[0m\u001b[0mapply\u001b[0m\u001b[0;34m(\u001b[0m\u001b[0;34m)\u001b[0m\u001b[0;34m\u001b[0m\u001b[0;34m\u001b[0m\u001b[0m\n\u001b[0m\u001b[1;32m   4434\u001b[0m \u001b[0;34m\u001b[0m\u001b[0m\n\u001b[1;32m   4435\u001b[0m     def _reduce(\n",
      "\u001b[0;32m~/.local/lib/python3.10/site-packages/pandas/core/apply.py\u001b[0m in \u001b[0;36mapply\u001b[0;34m(self)\u001b[0m\n\u001b[1;32m   1080\u001b[0m             \u001b[0;32mreturn\u001b[0m \u001b[0mself\u001b[0m\u001b[0;34m.\u001b[0m\u001b[0mapply_str\u001b[0m\u001b[0;34m(\u001b[0m\u001b[0;34m)\u001b[0m\u001b[0;34m\u001b[0m\u001b[0;34m\u001b[0m\u001b[0m\n\u001b[1;32m   1081\u001b[0m \u001b[0;34m\u001b[0m\u001b[0m\n\u001b[0;32m-> 1082\u001b[0;31m         \u001b[0;32mreturn\u001b[0m \u001b[0mself\u001b[0m\u001b[0;34m.\u001b[0m\u001b[0mapply_standard\u001b[0m\u001b[0;34m(\u001b[0m\u001b[0;34m)\u001b[0m\u001b[0;34m\u001b[0m\u001b[0;34m\u001b[0m\u001b[0m\n\u001b[0m\u001b[1;32m   1083\u001b[0m \u001b[0;34m\u001b[0m\u001b[0m\n\u001b[1;32m   1084\u001b[0m     \u001b[0;32mdef\u001b[0m \u001b[0magg\u001b[0m\u001b[0;34m(\u001b[0m\u001b[0mself\u001b[0m\u001b[0;34m)\u001b[0m\u001b[0;34m:\u001b[0m\u001b[0;34m\u001b[0m\u001b[0;34m\u001b[0m\u001b[0m\n",
      "\u001b[0;32m~/.local/lib/python3.10/site-packages/pandas/core/apply.py\u001b[0m in \u001b[0;36mapply_standard\u001b[0;34m(self)\u001b[0m\n\u001b[1;32m   1135\u001b[0m                 \u001b[0;31m# List[Union[Callable[..., Any], str]]]]]\"; expected\u001b[0m\u001b[0;34m\u001b[0m\u001b[0;34m\u001b[0m\u001b[0m\n\u001b[1;32m   1136\u001b[0m                 \u001b[0;31m# \"Callable[[Any], Any]\"\u001b[0m\u001b[0;34m\u001b[0m\u001b[0;34m\u001b[0m\u001b[0m\n\u001b[0;32m-> 1137\u001b[0;31m                 mapped = lib.map_infer(\n\u001b[0m\u001b[1;32m   1138\u001b[0m                     \u001b[0mvalues\u001b[0m\u001b[0;34m,\u001b[0m\u001b[0;34m\u001b[0m\u001b[0;34m\u001b[0m\u001b[0m\n\u001b[1;32m   1139\u001b[0m                     \u001b[0mf\u001b[0m\u001b[0;34m,\u001b[0m  \u001b[0;31m# type: ignore[arg-type]\u001b[0m\u001b[0;34m\u001b[0m\u001b[0;34m\u001b[0m\u001b[0m\n",
      "\u001b[0;32m~/.local/lib/python3.10/site-packages/pandas/_libs/lib.pyx\u001b[0m in \u001b[0;36mpandas._libs.lib.map_infer\u001b[0;34m()\u001b[0m\n",
      "\u001b[0;31mValueError\u001b[0m: could not convert string to float: 'AE'"
     ]
    }
   ],
   "source": [
    "uso_estq = uso_estoque(estq_max_num)\n",
    "#uso_estq_porc = uso_estoque(estq_max_num, porc=True)"
   ]
  },
  {
   "cell_type": "code",
   "execution_count": null,
   "metadata": {},
   "outputs": [],
   "source": []
  }
 ],
 "metadata": {
  "interpreter": {
   "hash": "31f2aee4e71d21fbe5cf8b01ff0e069b9275f58929596ceb00d14d90e3e16cd6"
  },
  "kernelspec": {
   "display_name": "Python 3.10.4 64-bit",
   "language": "python",
   "name": "python3"
  },
  "language_info": {
   "codemirror_mode": {
    "name": "ipython",
    "version": 3
   },
   "file_extension": ".py",
   "mimetype": "text/x-python",
   "name": "python",
   "nbconvert_exporter": "python",
   "pygments_lexer": "ipython3",
   "version": "3.10.4"
  },
  "orig_nbformat": 4
 },
 "nbformat": 4,
 "nbformat_minor": 2
}
