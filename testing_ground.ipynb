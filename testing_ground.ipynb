{
 "cells": [
  {
   "cell_type": "markdown",
   "metadata": {},
   "source": [
    "# Banco de dados Solo Criado: Take 1"
   ]
  },
  {
   "cell_type": "markdown",
   "metadata": {},
   "source": [
    "Vou fazer primeiro no notebook para ir testando, depois passo para o arquivo .py"
   ]
  },
  {
   "cell_type": "markdown",
   "metadata": {},
   "source": [
    "## Roadmap\n",
    "\n",
    "* Coletar listagem do site da prefeitura\n",
    "* Transformar pdf da listagem em xmls por este site\n",
    "* Transformar xmls em cvs\n",
    "* Carregar cvs de listagem para o banco de dados\n",
    "  * Extração;\n",
    "  * Exploração;\n",
    "  * Limpeza;\n",
    "  * Agregação;\n",
    "  * Visualização;\n",
    "  * Storytelling."
   ]
  },
  {
   "cell_type": "markdown",
   "metadata": {},
   "source": [
    "## Primeira parte: Coleta e transformação dos dados"
   ]
  },
  {
   "cell_type": "markdown",
   "metadata": {},
   "source": [
    "from [here](https://www.edureka.co/blog/web-scraping-with-python/): <br>\n",
    "Libraries used for Web Scraping  <br>\n",
    "As we know, Python is has various applications and there are different libraries for different purposes. In our further demonstration, we will be using the following libraries: <br>\n",
    "<br>\n",
    "**Selenium**:  Selenium is a web testing library. It is used to automate browser activities. <br>\n",
    "**BeautifulSoup**: Beautiful Soup is a Python package for parsing HTML and XML documents. It creates parse trees that is helpful to extract the data easily.<br>\n",
    "Pandas: Pandas is a library used for data manipulation and analysis. It is used to extract the data and store it in the desired format. "
   ]
  },
  {
   "cell_type": "markdown",
   "metadata": {},
   "source": [
    "Eu tenho que baixar com requests somente a parte que me interessa (div id=\"conteudo\" class=\"outros\") <br>\n",
    "Ou usar o bs4 pra retirar somente essa parte do todo"
   ]
  },
  {
   "cell_type": "markdown",
   "metadata": {},
   "source": [
    "O código abaixo recebe e cria um arquivo html com os dados da página de listagens."
   ]
  },
  {
   "cell_type": "code",
   "execution_count": 1,
   "metadata": {},
   "outputs": [],
   "source": [
    "#import requests\n",
    "#\n",
    "#url = 'http://www2.portoalegre.rs.gov.br/edificapoa/default.php?p_secao=1445'\n",
    "#r = requests.get(url)\n",
    "#\n",
    "#open('estoques.html', 'wb').write(r.content)"
   ]
  },
  {
   "cell_type": "markdown",
   "metadata": {},
   "source": [
    "O código abaixo (em andamento) serve para limpar o html e eventualmente retirar os links das listagens em pdf"
   ]
  },
  {
   "cell_type": "code",
   "execution_count": 2,
   "metadata": {},
   "outputs": [],
   "source": [
    "#from bs4 import BeautifulSoup\n",
    "#\n",
    "#with open('estoques.html') as fp:\n",
    "#    soup = BeautifulSoup(fp, 'html.parser')\n",
    "#\n",
    "#conteudo = soup.find(id=\"conteudo\")\n",
    "#conteudo.find_all('strong')\n",
    "#conteudo.find_all('a')\n",
    "#for link in conteudo.find_all('a'):\n",
    "#    print(link.get('href'))"
   ]
  },
  {
   "cell_type": "markdown",
   "metadata": {},
   "source": [
    "Ao longo do tempo o formato de cada entrada de listagem mudou, então o ideal seria criar uma lista com as listagens já existentes e ir adicionando com base na ultima listagem. O problema é se mudarem o formato de divulgação de novo. acho que vou focar somente na parte de banco de dados que á mais útil e confiável, por enquanto."
   ]
  },
  {
   "cell_type": "markdown",
   "metadata": {},
   "source": [
    "## Segunda parte: a criação do banco de dados"
   ]
  },
  {
   "cell_type": "markdown",
   "metadata": {},
   "source": [
    "### 1. Extração"
   ]
  },
  {
   "cell_type": "markdown",
   "metadata": {},
   "source": [
    "* imports"
   ]
  },
  {
   "cell_type": "code",
   "execution_count": 39,
   "metadata": {},
   "outputs": [],
   "source": [
    "import pandas as pd\n",
    "import os\n",
    "import numpy as np"
   ]
  },
  {
   "cell_type": "markdown",
   "metadata": {},
   "source": [
    "* testando ler uma planilha de 1 listagem"
   ]
  },
  {
   "cell_type": "code",
   "execution_count": 4,
   "metadata": {},
   "outputs": [
    {
     "name": "stdout",
     "output_type": "stream",
     "text": [
      "['Table 1', 'Table 2', 'Table 3']\n"
     ]
    },
    {
     "data": {
      "text/html": [
       "<div>\n",
       "<style scoped>\n",
       "    .dataframe tbody tr th:only-of-type {\n",
       "        vertical-align: middle;\n",
       "    }\n",
       "\n",
       "    .dataframe tbody tr th {\n",
       "        vertical-align: top;\n",
       "    }\n",
       "\n",
       "    .dataframe thead th {\n",
       "        text-align: right;\n",
       "    }\n",
       "</style>\n",
       "<table border=\"1\" class=\"dataframe\">\n",
       "  <thead>\n",
       "    <tr style=\"text-align: right;\">\n",
       "      <th></th>\n",
       "      <th>MZ</th>\n",
       "      <th>UEU</th>\n",
       "      <th>QRT</th>\n",
       "      <th>Unnamed: 3</th>\n",
       "    </tr>\n",
       "  </thead>\n",
       "  <tbody>\n",
       "    <tr>\n",
       "      <th>0</th>\n",
       "      <td>1</td>\n",
       "      <td>2</td>\n",
       "      <td>1</td>\n",
       "      <td>AE</td>\n",
       "    </tr>\n",
       "    <tr>\n",
       "      <th>1</th>\n",
       "      <td>1</td>\n",
       "      <td>2</td>\n",
       "      <td>3</td>\n",
       "      <td>AE</td>\n",
       "    </tr>\n",
       "    <tr>\n",
       "      <th>2</th>\n",
       "      <td>1</td>\n",
       "      <td>2</td>\n",
       "      <td>5</td>\n",
       "      <td>AE</td>\n",
       "    </tr>\n",
       "    <tr>\n",
       "      <th>3</th>\n",
       "      <td>1</td>\n",
       "      <td>4</td>\n",
       "      <td>3</td>\n",
       "      <td>AE</td>\n",
       "    </tr>\n",
       "    <tr>\n",
       "      <th>4</th>\n",
       "      <td>1</td>\n",
       "      <td>4</td>\n",
       "      <td>5</td>\n",
       "      <td>1388.5667</td>\n",
       "    </tr>\n",
       "  </tbody>\n",
       "</table>\n",
       "</div>"
      ],
      "text/plain": [
       "   MZ  UEU  QRT Unnamed: 3\n",
       "0   1    2    1         AE\n",
       "1   1    2    3         AE\n",
       "2   1    2    5         AE\n",
       "3   1    4    3         AE\n",
       "4   1    4    5  1388.5667"
      ]
     },
     "execution_count": 4,
     "metadata": {},
     "output_type": "execute_result"
    }
   ],
   "source": [
    "caminho_teste = './dados/ListagemSoloCriado/XLSX/estq-max-01.xlsx'\n",
    "sheet = pd.ExcelFile('./dados/ListagemSoloCriado/XLSX/estq-max-01.xlsx').sheet_names\n",
    "print(sheet)\n",
    "df_estq_01 = pd.read_excel(io=caminho_teste, sheet_name='Table 1', header=1)\n",
    "\n",
    "df_estq_01.head(5)"
   ]
  },
  {
   "cell_type": "markdown",
   "metadata": {},
   "source": [
    "* lista de arquivos"
   ]
  },
  {
   "cell_type": "code",
   "execution_count": 5,
   "metadata": {},
   "outputs": [
    {
     "name": "stdout",
     "output_type": "stream",
     "text": [
      "['estq-max-01.xlsx', 'estq-max-02.xlsx', 'estq-max-03.xlsx', 'estq-max-04.xlsx', 'estq-max-05.xlsx', 'estq-max-06.xlsx', 'estq-max-07.xlsx', 'estq-max-08.xlsx', 'estq-max-09.xlsx', 'estq-max-10.xlsx', 'estq-max-11.xlsx', 'estq-max-12.xlsx', 'estq-max-13.xlsx', 'estq-max-14.xlsx', 'estq-max-15.xlsx', 'estq-max-16.xlsx']\n"
     ]
    }
   ],
   "source": [
    "print(os.listdir(\"./dados/ListagemSoloCriado/XLSX\"))"
   ]
  },
  {
   "cell_type": "markdown",
   "metadata": {},
   "source": [
    "Função que junta tabelas de arquivos"
   ]
  },
  {
   "cell_type": "code",
   "execution_count": 6,
   "metadata": {},
   "outputs": [],
   "source": [
    "def join_sheet(file):\n",
    "    \"\"\"Receives a excel file path and\n",
    "    returns a dataframe with his sheets\n",
    "    appended. Also fix third column name.\"\"\"\n",
    "\n",
    "    sheet_list = pd.ExcelFile(file).sheet_names\n",
    "    df_list = []\n",
    "    for sheet in sheet_list:\n",
    "        df_list.append(pd.read_excel(io=file, sheet_name=sheet, header=1))\n",
    "    \n",
    "    listagem = pd.concat(objs=df_list, ignore_index=True)\n",
    "    \n",
    "    colunas = listagem.columns.to_list()\n",
    "    colunas[-1] = 'estq_max_' + file[-7:-5]\n",
    "    listagem.columns = colunas\n",
    "\n",
    "    return listagem\n"
   ]
  },
  {
   "cell_type": "markdown",
   "metadata": {},
   "source": [
    "* Testando função join_sheet"
   ]
  },
  {
   "cell_type": "code",
   "execution_count": 7,
   "metadata": {},
   "outputs": [],
   "source": [
    "# estq_01 = join_sheet(caminho_teste)\n",
    "# estq_01"
   ]
  },
  {
   "cell_type": "markdown",
   "metadata": {},
   "source": [
    "**Feito!**"
   ]
  },
  {
   "cell_type": "markdown",
   "metadata": {},
   "source": [
    "exemplo de uma funÇao que cria uma lista de df com as listagens"
   ]
  },
  {
   "cell_type": "code",
   "execution_count": 8,
   "metadata": {},
   "outputs": [],
   "source": [
    "def db_creator01(path):\n",
    "    files = os.listdir(path)\n",
    "    db_estq = []\n",
    "    for table in files:\n",
    "        db_estq.append(join_sheet(path + \"/\" + table))\n",
    "    \n",
    "    return db_estq"
   ]
  },
  {
   "cell_type": "markdown",
   "metadata": {},
   "source": [
    "* execução da funçao"
   ]
  },
  {
   "cell_type": "code",
   "execution_count": 9,
   "metadata": {},
   "outputs": [],
   "source": [
    "# db_estq = db_creator01(\"./dados/ListagemSoloCriado/XLSX\")"
   ]
  },
  {
   "cell_type": "markdown",
   "metadata": {},
   "source": [
    "* 5 primeiras linhas da listagem 1"
   ]
  },
  {
   "cell_type": "code",
   "execution_count": 10,
   "metadata": {},
   "outputs": [],
   "source": [
    "# db_estq[0].head(5)"
   ]
  },
  {
   "cell_type": "markdown",
   "metadata": {},
   "source": [
    "**nota**: o que eu quero é uma função que:\n",
    "* puxe a lista de arquivos da pasta de dados\n",
    "* confere se os arquivos foram adicionados ao banco de dados(pode-se comparar i índice da lista de arquivos com o índice da lista de banco de dados)\n",
    "* adiciona o arquivo ao db a partir da primeira entrada faltante\n",
    "* retorna o banco de dados atualizado"
   ]
  },
  {
   "cell_type": "code",
   "execution_count": 67,
   "metadata": {},
   "outputs": [],
   "source": [
    "def mzueuqrt(dataframe: list):\n",
    "    \"\"\"Receives a dataframe, adds\n",
    "    the MZUEUQRT column in the [-1]\n",
    "    position, and makes it the index.\"\"\"\n",
    "\n",
    "    new_columns = list(dataframe.columns)\n",
    "    new_columns.insert(-1, 'MZUEUQRT')\n",
    "    dataframe = dataframe.reindex(columns=new_columns)\n",
    "    #Agora vem o calculo da columa MZUEUQRT\n",
    "    \n",
    "    #dataframe['MZUEUQRT'] = str(dataframe['MZ']) + str(dataframe['UEU']) + str(dataframe['QRT'])\n",
    "    #dataframe = dataframe.set_index(keys='MZUEUQRT')\n",
    "    dataframe['MZUEUQRT'] = (dataframe['MZ']*1000000) + (dataframe['UEU']*1000) + (dataframe['QRT'])\n",
    "\n",
    "    return dataframe"
   ]
  },
  {
   "cell_type": "code",
   "execution_count": 68,
   "metadata": {},
   "outputs": [],
   "source": [
    "def db_manager(path=any, database=[]):\n",
    "    \"\"\"Receives a path to Excel files and \n",
    "    a list containing dataframes, checks if \n",
    "    there is any file that is not in the database, \n",
    "    adds the missing files to database if there is any \n",
    "    and returns the updated database.\"\"\"\n",
    "\n",
    "    files = os.listdir(path)\n",
    "    \n",
    "    if len(database) == len(files): #Não há nenhum dado novo a ser adicionado\n",
    "        print(\"O banco de dados já está atualizado.\")\n",
    "        return database\n",
    "    elif len(database) > len(files): #Há algum problema, pois o BD possui mais entradas do que a pasta de arquivos\n",
    "        print(\"O banco de dados possui mais entradas do que a pasta de arquivos\")\n",
    "        return database\n",
    "    elif len(database) < len(files): #Existem novas listagens que não foram adicionadas ao BD\n",
    "        print(\"O banco de dados está desatualizado\")\n",
    "        for i in range(len(database), len(files)):\n",
    "            database.append(mzueuqrt(join_sheet(path + \"/\" + files[i])))\n",
    "            print(\"Adicionando listagem\", (i+1))\n",
    "\n",
    "    return database\n",
    "    "
   ]
  },
  {
   "cell_type": "markdown",
   "metadata": {},
   "source": [
    "* Testando a função db_manager"
   ]
  },
  {
   "cell_type": "code",
   "execution_count": 69,
   "metadata": {},
   "outputs": [
    {
     "name": "stdout",
     "output_type": "stream",
     "text": [
      "O banco de dados está desatualizado\n",
      "Adicionando listagem 1\n",
      "Adicionando listagem 2\n",
      "Adicionando listagem 3\n",
      "Adicionando listagem 4\n",
      "Adicionando listagem 5\n",
      "Adicionando listagem 6\n",
      "Adicionando listagem 7\n",
      "Adicionando listagem 8\n",
      "Adicionando listagem 9\n",
      "Adicionando listagem 10\n",
      "Adicionando listagem 11\n",
      "Adicionando listagem 12\n",
      "Adicionando listagem 13\n",
      "Adicionando listagem 14\n",
      "Adicionando listagem 15\n",
      "Adicionando listagem 16\n"
     ]
    }
   ],
   "source": [
    "db_estq = db_manager(\"./dados/ListagemSoloCriado/XLSX\")\n"
   ]
  },
  {
   "cell_type": "markdown",
   "metadata": {},
   "source": [
    "* Deu certo! <br>\n",
    "Se eu chamo de novo:"
   ]
  },
  {
   "cell_type": "code",
   "execution_count": 13,
   "metadata": {},
   "outputs": [],
   "source": [
    "# db_estq = db_manager(\"./dados/ListagemSoloCriado/XLSX\", db_estq)"
   ]
  },
  {
   "cell_type": "markdown",
   "metadata": {},
   "source": [
    "* Feito!!"
   ]
  },
  {
   "cell_type": "markdown",
   "metadata": {},
   "source": [
    "### 2. Exploração"
   ]
  },
  {
   "cell_type": "markdown",
   "metadata": {},
   "source": [
    "Esta parte já foi feita, pois eu já conheço os dados. Cada dataframe corresponde a uma listagem, contendo as seguintes colunas:\n",
    "* index\n",
    "* MZ\n",
    "* UEU\n",
    "* QRT\n",
    "* estq_max_##"
   ]
  },
  {
   "cell_type": "markdown",
   "metadata": {},
   "source": [
    "### 3. Limpeza"
   ]
  },
  {
   "cell_type": "markdown",
   "metadata": {},
   "source": [
    "Nesse caso não há nada o que tirar, mas é preciso adicionar a coluna MZUEUQRT, que serve como chave para muitas operações"
   ]
  },
  {
   "cell_type": "markdown",
   "metadata": {},
   "source": [
    "Testando com um DataFrame teste:"
   ]
  },
  {
   "cell_type": "code",
   "execution_count": 14,
   "metadata": {},
   "outputs": [],
   "source": [
    "dici = {\"a\": [1, 2, 3], \"b\": [2, 3, 4], \"c\": None}\n",
    "df = pd.DataFrame(dici)"
   ]
  },
  {
   "cell_type": "code",
   "execution_count": 15,
   "metadata": {},
   "outputs": [
    {
     "data": {
      "text/plain": [
       "0    12\n",
       "1    23\n",
       "2    34\n",
       "Name: c, dtype: object"
      ]
     },
     "execution_count": 15,
     "metadata": {},
     "output_type": "execute_result"
    }
   ],
   "source": [
    "df[\"c\"] = df['a'].apply(str) + df['b'].apply(str)\n",
    "df['c']"
   ]
  },
  {
   "cell_type": "markdown",
   "metadata": {},
   "source": [
    "Seguindo esse método posso criar a chave MZUEUQRT, o problema é adicionar os zeros necessários (talvez converter o MZ em numero com várias casas decimais)"
   ]
  },
  {
   "cell_type": "code",
   "execution_count": 44,
   "metadata": {},
   "outputs": [
    {
     "data": {
      "text/html": [
       "<div>\n",
       "<style scoped>\n",
       "    .dataframe tbody tr th:only-of-type {\n",
       "        vertical-align: middle;\n",
       "    }\n",
       "\n",
       "    .dataframe tbody tr th {\n",
       "        vertical-align: top;\n",
       "    }\n",
       "\n",
       "    .dataframe thead th {\n",
       "        text-align: right;\n",
       "    }\n",
       "</style>\n",
       "<table border=\"1\" class=\"dataframe\">\n",
       "  <thead>\n",
       "    <tr style=\"text-align: right;\">\n",
       "      <th></th>\n",
       "      <th>a</th>\n",
       "      <th>b</th>\n",
       "      <th>d</th>\n",
       "      <th>d</th>\n",
       "      <th>c</th>\n",
       "    </tr>\n",
       "    <tr>\n",
       "      <th>a</th>\n",
       "      <th></th>\n",
       "      <th></th>\n",
       "      <th></th>\n",
       "      <th></th>\n",
       "      <th></th>\n",
       "    </tr>\n",
       "  </thead>\n",
       "  <tbody>\n",
       "    <tr>\n",
       "      <th>1</th>\n",
       "      <td>1</td>\n",
       "      <td>2</td>\n",
       "      <td>NaN</td>\n",
       "      <td>NaN</td>\n",
       "      <td>1002</td>\n",
       "    </tr>\n",
       "    <tr>\n",
       "      <th>2</th>\n",
       "      <td>2</td>\n",
       "      <td>3</td>\n",
       "      <td>NaN</td>\n",
       "      <td>NaN</td>\n",
       "      <td>2003</td>\n",
       "    </tr>\n",
       "    <tr>\n",
       "      <th>3</th>\n",
       "      <td>3</td>\n",
       "      <td>4</td>\n",
       "      <td>NaN</td>\n",
       "      <td>NaN</td>\n",
       "      <td>3004</td>\n",
       "    </tr>\n",
       "  </tbody>\n",
       "</table>\n",
       "</div>"
      ],
      "text/plain": [
       "   a  b   d   d     c\n",
       "a                    \n",
       "1  1  2 NaN NaN  1002\n",
       "2  2  3 NaN NaN  2003\n",
       "3  3  4 NaN NaN  3004"
      ]
     },
     "execution_count": 44,
     "metadata": {},
     "output_type": "execute_result"
    }
   ],
   "source": [
    "df['a'] * 1000 + df['b']\n",
    "df.set_index(keys='a', drop=False, )"
   ]
  },
  {
   "cell_type": "markdown",
   "metadata": {},
   "source": [
    "YES!"
   ]
  },
  {
   "cell_type": "code",
   "execution_count": null,
   "metadata": {},
   "outputs": [],
   "source": []
  },
  {
   "cell_type": "markdown",
   "metadata": {},
   "source": [
    "Sem mais delongas, para a função:"
   ]
  },
  {
   "cell_type": "code",
   "execution_count": 59,
   "metadata": {},
   "outputs": [],
   "source": [
    "def mzueuqrt(dataframe: list):\n",
    "    \"\"\"Receives a dataframe, adds\n",
    "    the MZUEUQRT column in the [-1]\n",
    "    position, and makes it the index.\"\"\"\n",
    "\n",
    "    new_columns = list(dataframe.columns)\n",
    "    new_columns.insert(-1, 'MZUEUQRT')\n",
    "    dataframe = dataframe.reindex(columns=new_columns)\n",
    "    #Agora vem o calculo da columa MZUEUQRT\n",
    "    \n",
    "    #dataframe['MZUEUQRT'] = str(dataframe['MZ']) + str(dataframe['UEU']) + str(dataframe['QRT'])\n",
    "    #dataframe = dataframe.set_index(keys='MZUEUQRT')\n",
    "    dataframe['MZUEUQRT'] = (dataframe['MZ']*1000000) + (dataframe['UEU']*1000) + (dataframe['QRT'])\n",
    "\n",
    "    return dataframe"
   ]
  },
  {
   "cell_type": "code",
   "execution_count": 79,
   "metadata": {},
   "outputs": [
    {
     "data": {
      "text/plain": [
       "0       1002001\n",
       "1       1002003\n",
       "2       1002005\n",
       "3       1004003\n",
       "4       1004005\n",
       "         ...   \n",
       "6264    8084021\n",
       "6265    8084023\n",
       "6266    8084025\n",
       "6267    8084027\n",
       "6268    8084029\n",
       "Name: MZUEUQRT, Length: 6269, dtype: int64"
      ]
     },
     "execution_count": 79,
     "metadata": {},
     "output_type": "execute_result"
    }
   ],
   "source": [
    "#df_estq_01 = mzueuqrt(df_estq_01)\n",
    "db_estq[0]['MZUEUQRT']"
   ]
  },
  {
   "cell_type": "code",
   "execution_count": 85,
   "metadata": {},
   "outputs": [
    {
     "data": {
      "text/plain": [
       "Int64Index([   0,    1,    2,    3,    4,    5,    6,    7,    8,    9,\n",
       "            ...\n",
       "            6259, 6260, 6261, 6262, 6263, 6264, 6265, 6266, 6267, 6268],\n",
       "           dtype='int64', length=6269)"
      ]
     },
     "execution_count": 85,
     "metadata": {},
     "output_type": "execute_result"
    }
   ],
   "source": [
    "estq_max = pd.merge(left=db_estq[0], right=db_estq[1]['estq_max_02'], left_index=True, right_index=True, how='outer')\n",
    "\n",
    "estq_max.head(5)\n",
    "estq_max.index"
   ]
  },
  {
   "cell_type": "markdown",
   "metadata": {},
   "source": [
    "**Feito!**"
   ]
  },
  {
   "cell_type": "markdown",
   "metadata": {},
   "source": [
    "Agora a funÇao que vai criar o dataframe com a listagem completa, agregando todas as listagens até o momento"
   ]
  },
  {
   "cell_type": "code",
   "execution_count": null,
   "metadata": {},
   "outputs": [],
   "source": [
    "def estq_max(database):\n",
    "    \"\"\"Receives a database containing \n",
    "    all dataframes, and aggregates them.\"\"\"\n",
    "\n",
    "    estq_max = database[0]\n",
    "\n",
    "    "
   ]
  }
 ],
 "metadata": {
  "interpreter": {
   "hash": "4e789ad8dc514a7ed0f24b48b0f9baee4c4660a5328bcde4373ca9458448a524"
  },
  "kernelspec": {
   "display_name": "Python 3.9.7 ('base')",
   "language": "python",
   "name": "python3"
  },
  "language_info": {
   "codemirror_mode": {
    "name": "ipython",
    "version": 3
   },
   "file_extension": ".py",
   "mimetype": "text/x-python",
   "name": "python",
   "nbconvert_exporter": "python",
   "pygments_lexer": "ipython3",
   "version": "3.10.4"
  },
  "orig_nbformat": 4
 },
 "nbformat": 4,
 "nbformat_minor": 2
}
