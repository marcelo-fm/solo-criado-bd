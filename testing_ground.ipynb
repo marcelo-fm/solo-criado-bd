{
 "cells": [
  {
   "cell_type": "markdown",
   "metadata": {},
   "source": [
    "# Banco de dados Solo Criado: Take 1"
   ]
  },
  {
   "cell_type": "markdown",
   "metadata": {},
   "source": [
    "Vou fazer primeiro no notebook para ir testando, depois passo para o arquivo .py"
   ]
  },
  {
   "cell_type": "markdown",
   "metadata": {},
   "source": [
    "## Roadmap\n",
    "\n",
    "* Coletar listagem do site da prefeitura\n",
    "* Transformar pdf da listagem em xmls por este site\n",
    "* Transformar xmls em cvs\n",
    "* Carregar cvs de listagem para o banco de dados\n",
    "  * Extração;\n",
    "  * Exploração;\n",
    "  * Limpeza;\n",
    "  * Agregação;\n",
    "  * Visualização;\n",
    "  * Storytelling."
   ]
  },
  {
   "cell_type": "markdown",
   "metadata": {},
   "source": [
    "## Segunda parte: a criação do banco de dados"
   ]
  },
  {
   "cell_type": "markdown",
   "metadata": {},
   "source": [
    "### 1. Extração"
   ]
  },
  {
   "cell_type": "markdown",
   "metadata": {},
   "source": [
    "imports"
   ]
  },
  {
   "cell_type": "code",
   "execution_count": 9,
   "metadata": {},
   "outputs": [],
   "source": [
    "import pandas as pd\n",
    "import os\n",
    "import geopandas as gpd\n",
    "import functools as ft"
   ]
  },
  {
   "cell_type": "markdown",
   "metadata": {},
   "source": [
    "Testando a função db_manager"
   ]
  },
  {
   "cell_type": "code",
   "execution_count": 2,
   "metadata": {},
   "outputs": [
    {
     "name": "stdout",
     "output_type": "stream",
     "text": [
      "O banco de dados está desatualizado\n",
      "Adicionando listagem 1\n",
      "Adicionando listagem 2\n",
      "Adicionando listagem 3\n",
      "Adicionando listagem 4\n",
      "Adicionando listagem 5\n",
      "Adicionando listagem 6\n",
      "Adicionando listagem 7\n",
      "Adicionando listagem 8\n",
      "Adicionando listagem 9\n",
      "Adicionando listagem 10\n",
      "Adicionando listagem 11\n",
      "Adicionando listagem 12\n",
      "Adicionando listagem 13\n",
      "Adicionando listagem 14\n",
      "Adicionando listagem 15\n",
      "Adicionando listagem 16\n"
     ]
    }
   ],
   "source": [
    "from extract_sc import db_manager\n",
    "\n",
    "db_estq = db_manager(\"./dados/ListagemSoloCriado/XLSX\")\n"
   ]
  },
  {
   "cell_type": "markdown",
   "metadata": {},
   "source": [
    "## Terceira parte: Manipulação do Banco de Dados"
   ]
  },
  {
   "cell_type": "markdown",
   "metadata": {},
   "source": [
    "### Agregação"
   ]
  },
  {
   "cell_type": "markdown",
   "metadata": {},
   "source": [
    "estoque_maximo"
   ]
  },
  {
   "cell_type": "code",
   "execution_count": 4,
   "metadata": {},
   "outputs": [],
   "source": [
    "#estq_max_num.to_csv(path_or_buf=\"./dados/estq_max_num.csv\", sep=';') #já rodei o codigo 1 vez"
   ]
  },
  {
   "cell_type": "markdown",
   "metadata": {},
   "source": [
    "testando a função estoque_maximo"
   ]
  },
  {
   "cell_type": "code",
   "execution_count": 3,
   "metadata": {},
   "outputs": [],
   "source": [
    "from transform_sc import estoque_maximo, cria_uso_estoque\n",
    "\n",
    "estq_max_num = estoque_maximo(db_estq)\n",
    "uso_estq = cria_uso_estoque(estq_max_num)"
   ]
  },
  {
   "cell_type": "code",
   "execution_count": null,
   "metadata": {},
   "outputs": [],
   "source": []
  }
 ],
 "metadata": {
  "interpreter": {
   "hash": "824b9c453d6171238427bc00c461c7ab01cfffeb68498210ad1b788c808a3d0f"
  },
  "kernelspec": {
   "display_name": "Python 3.9.12 ('base')",
   "language": "python",
   "name": "python3"
  },
  "language_info": {
   "codemirror_mode": {
    "name": "ipython",
    "version": 3
   },
   "file_extension": ".py",
   "mimetype": "text/x-python",
   "name": "python",
   "nbconvert_exporter": "python",
   "pygments_lexer": "ipython3",
   "version": "3.9.12"
  },
  "orig_nbformat": 4
 },
 "nbformat": 4,
 "nbformat_minor": 2
}
