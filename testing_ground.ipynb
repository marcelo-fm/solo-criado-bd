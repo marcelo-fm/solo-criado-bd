{
 "cells": [
  {
   "cell_type": "markdown",
   "metadata": {},
   "source": [
    "# Banco de dados Solo Criado: Take 1"
   ]
  },
  {
   "cell_type": "markdown",
   "metadata": {},
   "source": [
    "Vou fazer primeiro no notebook para ir testando, depois passo para o arquivo .py"
   ]
  },
  {
   "cell_type": "markdown",
   "metadata": {},
   "source": [
    "## Roadmap\n",
    "\n",
    "* Coletar listagem do site da prefeitura\n",
    "* Transformar pdf da listagem em xmls por este site\n",
    "* Transformar xmls em cvs\n",
    "* Carregar cvs de listagem para o banco de dados\n",
    "  * Extração;\n",
    "  * Exploração;\n",
    "  * Limpeza;\n",
    "  * Agregação;\n",
    "  * Visualização;\n",
    "  * Storytelling."
   ]
  },
  {
   "cell_type": "markdown",
   "metadata": {},
   "source": [
    "## Primeira parte: Coleta e transformação dos dados"
   ]
  },
  {
   "cell_type": "markdown",
   "metadata": {},
   "source": [
    "from [here](https://www.edureka.co/blog/web-scraping-with-python/): <br>\n",
    "Libraries used for Web Scraping  <br>\n",
    "As we know, Python is has various applications and there are different libraries for different purposes. In our further demonstration, we will be using the following libraries: <br>\n",
    "<br>\n",
    "**Selenium**:  Selenium is a web testing library. It is used to automate browser activities. <br>\n",
    "**BeautifulSoup**: Beautiful Soup is a Python package for parsing HTML and XML documents. It creates parse trees that is helpful to extract the data easily.<br>\n",
    "Pandas: Pandas is a library used for data manipulation and analysis. It is used to extract the data and store it in the desired format. "
   ]
  },
  {
   "cell_type": "markdown",
   "metadata": {},
   "source": [
    "Eu tenho que baixar com requests somente a parte que me interessa (div id=\"conteudo\" class=\"outros\") <br>\n",
    "Ou usar o bs4 pra retirar somente essa parte do todo"
   ]
  },
  {
   "cell_type": "markdown",
   "metadata": {},
   "source": [
    "O código abaixo recebe e cria um arquivo html com os dados da página de listagens."
   ]
  },
  {
   "cell_type": "code",
   "execution_count": 1,
   "metadata": {},
   "outputs": [],
   "source": [
    "#import requests\n",
    "#\n",
    "#url = 'http://www2.portoalegre.rs.gov.br/edificapoa/default.php?p_secao=1445'\n",
    "#r = requests.get(url)\n",
    "#\n",
    "#open('estoques.html', 'wb').write(r.content)"
   ]
  },
  {
   "cell_type": "markdown",
   "metadata": {},
   "source": [
    "O código abaixo (em andamento) serve para limpar o html e eventualmente retirar os links das listagens em pdf"
   ]
  },
  {
   "cell_type": "code",
   "execution_count": 2,
   "metadata": {},
   "outputs": [],
   "source": [
    "#from bs4 import BeautifulSoup\n",
    "#\n",
    "#with open('estoques.html') as fp:\n",
    "#    soup = BeautifulSoup(fp, 'html.parser')\n",
    "#\n",
    "#conteudo = soup.find(id=\"conteudo\")\n",
    "#conteudo.find_all('strong')\n",
    "#conteudo.find_all('a')\n",
    "#for link in conteudo.find_all('a'):\n",
    "#    print(link.get('href'))"
   ]
  },
  {
   "cell_type": "markdown",
   "metadata": {},
   "source": [
    "Ao longo do tempo o formato de cada entrada de listagem mudou, então o ideal seria criar uma lista com as listagens já existentes e ir adicionando com base na ultima listagem. O problema é se mudarem o formato de divulgação de novo. acho que vou focar somente na parte de banco de dados que á mais útil e confiável, por enquanto."
   ]
  },
  {
   "cell_type": "markdown",
   "metadata": {},
   "source": [
    "## Segunda parte: a criação do banco de dados"
   ]
  },
  {
   "cell_type": "markdown",
   "metadata": {},
   "source": [
    "### 1. Extração"
   ]
  },
  {
   "cell_type": "markdown",
   "metadata": {},
   "source": [
    "* imports"
   ]
  },
  {
   "cell_type": "code",
   "execution_count": 19,
   "metadata": {},
   "outputs": [],
   "source": [
    "import pandas as pd\n",
    "import os\n",
    "#import numpy as np\n",
    "import functools as ft"
   ]
  },
  {
   "cell_type": "markdown",
   "metadata": {},
   "source": [
    "* testando ler uma planilha de 1 listagem"
   ]
  },
  {
   "cell_type": "code",
   "execution_count": 4,
   "metadata": {},
   "outputs": [
    {
     "name": "stdout",
     "output_type": "stream",
     "text": [
      "['Table 1', 'Table 2', 'Table 3']\n"
     ]
    },
    {
     "data": {
      "text/html": [
       "<div>\n",
       "<style scoped>\n",
       "    .dataframe tbody tr th:only-of-type {\n",
       "        vertical-align: middle;\n",
       "    }\n",
       "\n",
       "    .dataframe tbody tr th {\n",
       "        vertical-align: top;\n",
       "    }\n",
       "\n",
       "    .dataframe thead th {\n",
       "        text-align: right;\n",
       "    }\n",
       "</style>\n",
       "<table border=\"1\" class=\"dataframe\">\n",
       "  <thead>\n",
       "    <tr style=\"text-align: right;\">\n",
       "      <th></th>\n",
       "      <th>MZ</th>\n",
       "      <th>UEU</th>\n",
       "      <th>QRT</th>\n",
       "      <th>Unnamed: 3</th>\n",
       "    </tr>\n",
       "  </thead>\n",
       "  <tbody>\n",
       "    <tr>\n",
       "      <th>0</th>\n",
       "      <td>1</td>\n",
       "      <td>2</td>\n",
       "      <td>1</td>\n",
       "      <td>AE</td>\n",
       "    </tr>\n",
       "    <tr>\n",
       "      <th>1</th>\n",
       "      <td>1</td>\n",
       "      <td>2</td>\n",
       "      <td>3</td>\n",
       "      <td>AE</td>\n",
       "    </tr>\n",
       "    <tr>\n",
       "      <th>2</th>\n",
       "      <td>1</td>\n",
       "      <td>2</td>\n",
       "      <td>5</td>\n",
       "      <td>AE</td>\n",
       "    </tr>\n",
       "    <tr>\n",
       "      <th>3</th>\n",
       "      <td>1</td>\n",
       "      <td>4</td>\n",
       "      <td>3</td>\n",
       "      <td>AE</td>\n",
       "    </tr>\n",
       "    <tr>\n",
       "      <th>4</th>\n",
       "      <td>1</td>\n",
       "      <td>4</td>\n",
       "      <td>5</td>\n",
       "      <td>1388.5667</td>\n",
       "    </tr>\n",
       "  </tbody>\n",
       "</table>\n",
       "</div>"
      ],
      "text/plain": [
       "   MZ  UEU  QRT Unnamed: 3\n",
       "0   1    2    1         AE\n",
       "1   1    2    3         AE\n",
       "2   1    2    5         AE\n",
       "3   1    4    3         AE\n",
       "4   1    4    5  1388.5667"
      ]
     },
     "execution_count": 4,
     "metadata": {},
     "output_type": "execute_result"
    }
   ],
   "source": [
    "caminho_teste = './dados/ListagemSoloCriado/XLSX/estq-max-01.xlsx'\n",
    "sheet = pd.ExcelFile('./dados/ListagemSoloCriado/XLSX/estq-max-01.xlsx').sheet_names\n",
    "print(sheet)\n",
    "df_01 = pd.read_excel(io=caminho_teste, sheet_name='Table 1', header=1)\n",
    "\n",
    "df_01.head(5)"
   ]
  },
  {
   "cell_type": "markdown",
   "metadata": {},
   "source": [
    "* lista de arquivos"
   ]
  },
  {
   "cell_type": "code",
   "execution_count": 5,
   "metadata": {},
   "outputs": [
    {
     "name": "stdout",
     "output_type": "stream",
     "text": [
      "['estq-max-01.xlsx', 'estq-max-02.xlsx', 'estq-max-03.xlsx', 'estq-max-04.xlsx', 'estq-max-05.xlsx', 'estq-max-06.xlsx', 'estq-max-07.xlsx', 'estq-max-08.xlsx', 'estq-max-09.xlsx', 'estq-max-10.xlsx', 'estq-max-11.xlsx', 'estq-max-12.xlsx', 'estq-max-13.xlsx', 'estq-max-14.xlsx', 'estq-max-15.xlsx', 'estq-max-16.xlsx']\n"
     ]
    }
   ],
   "source": [
    "print(os.listdir(\"./dados/ListagemSoloCriado/XLSX\"))"
   ]
  },
  {
   "cell_type": "markdown",
   "metadata": {},
   "source": [
    "Função que junta tabelas de arquivos"
   ]
  },
  {
   "cell_type": "code",
   "execution_count": 6,
   "metadata": {},
   "outputs": [],
   "source": [
    "def join_sheet(file):\n",
    "    \"\"\"Receives a excel file path and\n",
    "    returns a dataframe with his sheets\n",
    "    appended. Also fix third column name.\"\"\"\n",
    "\n",
    "    sheet_list = pd.ExcelFile(file).sheet_names\n",
    "    df_list = []\n",
    "    for sheet in sheet_list:\n",
    "        df_list.append(pd.read_excel(io=file, sheet_name=sheet, header=1))\n",
    "    \n",
    "    listagem = pd.concat(objs=df_list, ignore_index=True)\n",
    "    \n",
    "    colunas = listagem.columns.to_list()\n",
    "    colunas[-1] = 'estq_max_' + file[-7:-5]\n",
    "    listagem.columns = colunas\n",
    "\n",
    "    return listagem\n"
   ]
  },
  {
   "cell_type": "markdown",
   "metadata": {},
   "source": [
    "* Testando função join_sheet"
   ]
  },
  {
   "cell_type": "code",
   "execution_count": 7,
   "metadata": {},
   "outputs": [],
   "source": [
    "# estq_01 = join_sheet(caminho_teste)\n",
    "# estq_01"
   ]
  },
  {
   "cell_type": "markdown",
   "metadata": {},
   "source": [
    "**Feito!**"
   ]
  },
  {
   "cell_type": "markdown",
   "metadata": {},
   "source": [
    "exemplo de uma funÇao que cria uma lista de df com as listagens"
   ]
  },
  {
   "cell_type": "code",
   "execution_count": 8,
   "metadata": {},
   "outputs": [],
   "source": [
    "def db_creator01(path):\n",
    "    files = os.listdir(path)\n",
    "    db_estq = []\n",
    "    for table in files:\n",
    "        db_estq.append(join_sheet(path + \"/\" + table))\n",
    "    \n",
    "    return db_estq"
   ]
  },
  {
   "cell_type": "markdown",
   "metadata": {},
   "source": [
    "* execução da funçao"
   ]
  },
  {
   "cell_type": "code",
   "execution_count": 9,
   "metadata": {},
   "outputs": [],
   "source": [
    "# db_estq = db_creator01(\"./dados/ListagemSoloCriado/XLSX\")"
   ]
  },
  {
   "cell_type": "markdown",
   "metadata": {},
   "source": [
    "* 5 primeiras linhas da listagem 1"
   ]
  },
  {
   "cell_type": "code",
   "execution_count": 10,
   "metadata": {},
   "outputs": [],
   "source": [
    "# db_estq[0].head(5)"
   ]
  },
  {
   "cell_type": "markdown",
   "metadata": {},
   "source": [
    "**nota**: o que eu quero é uma função que:\n",
    "* puxe a lista de arquivos da pasta de dados\n",
    "* confere se os arquivos foram adicionados ao banco de dados(pode-se comparar i índice da lista de arquivos com o índice da lista de banco de dados)\n",
    "* adiciona o arquivo ao db a partir da primeira entrada faltante\n",
    "* retorna o banco de dados atualizado"
   ]
  },
  {
   "cell_type": "code",
   "execution_count": 11,
   "metadata": {},
   "outputs": [],
   "source": [
    "def mzueuqrt(dataframe: list):\n",
    "    \"\"\"Receives a dataframe, adds\n",
    "    the MZUEUQRT column in the [-1]\n",
    "    position, and makes it the index.\"\"\"\n",
    "\n",
    "    new_columns = list(dataframe.columns)\n",
    "    new_columns.insert(-1, 'MZUEUQRT')\n",
    "    dataframe = dataframe.reindex(columns=new_columns)\n",
    "    #Agora vem o calculo da columa MZUEUQRT\n",
    "    \n",
    "    dataframe['MZUEUQRT'] = (dataframe['MZ']*1000000) + (dataframe['UEU']*1000) + (dataframe['QRT'])\n",
    "\n",
    "    return dataframe"
   ]
  },
  {
   "cell_type": "code",
   "execution_count": 12,
   "metadata": {},
   "outputs": [],
   "source": [
    "def db_manager(path=any, database=[]):\n",
    "    \"\"\"Receives a path to Excel files and \n",
    "    a list containing dataframes, checks if \n",
    "    there is any file that is not in the database, \n",
    "    adds the missing files to database if there is any \n",
    "    and returns the updated database.\"\"\"\n",
    "\n",
    "    files = os.listdir(path)\n",
    "    \n",
    "    if len(database) == len(files): #Não há nenhum dado novo a ser adicionado\n",
    "        print(\"O banco de dados já está atualizado.\")\n",
    "        return database\n",
    "    elif len(database) > len(files): #Há algum problema, pois o BD possui mais entradas do que a pasta de arquivos\n",
    "        print(\"O banco de dados possui mais entradas do que a pasta de arquivos\")\n",
    "        return database\n",
    "    elif len(database) < len(files): #Existem novas listagens que não foram adicionadas ao BD\n",
    "        print(\"O banco de dados está desatualizado\")\n",
    "        for i in range(len(database), len(files)):\n",
    "            listagem = mzueuqrt(join_sheet(path + \"/\" + files[i]))\n",
    "            listagem = listagem.set_index('MZUEUQRT', drop=False)\n",
    "            database.append(listagem)\n",
    "            print(\"Adicionando listagem\", (i+1))\n",
    "\n",
    "    return database\n",
    "    "
   ]
  },
  {
   "cell_type": "markdown",
   "metadata": {},
   "source": [
    "* Testando a função db_manager"
   ]
  },
  {
   "cell_type": "code",
   "execution_count": 13,
   "metadata": {},
   "outputs": [
    {
     "name": "stdout",
     "output_type": "stream",
     "text": [
      "O banco de dados está desatualizado\n",
      "Adicionando listagem 1\n",
      "Adicionando listagem 2\n",
      "Adicionando listagem 3\n",
      "Adicionando listagem 4\n",
      "Adicionando listagem 5\n",
      "Adicionando listagem 6\n",
      "Adicionando listagem 7\n",
      "Adicionando listagem 8\n",
      "Adicionando listagem 9\n",
      "Adicionando listagem 10\n",
      "Adicionando listagem 11\n",
      "Adicionando listagem 12\n",
      "Adicionando listagem 13\n",
      "Adicionando listagem 14\n",
      "Adicionando listagem 15\n",
      "Adicionando listagem 16\n"
     ]
    }
   ],
   "source": [
    "db_estq = db_manager(\"./dados/ListagemSoloCriado/XLSX\")\n"
   ]
  },
  {
   "cell_type": "markdown",
   "metadata": {},
   "source": [
    "* Deu certo! <br>\n",
    "Se eu chamo de novo:"
   ]
  },
  {
   "cell_type": "code",
   "execution_count": 14,
   "metadata": {},
   "outputs": [],
   "source": [
    "# db_estq = db_manager(\"./dados/ListagemSoloCriado/XLSX\", db_estq)"
   ]
  },
  {
   "cell_type": "markdown",
   "metadata": {},
   "source": [
    "* Feito!!"
   ]
  },
  {
   "cell_type": "markdown",
   "metadata": {},
   "source": [
    "### 2. Exploração"
   ]
  },
  {
   "cell_type": "markdown",
   "metadata": {},
   "source": [
    "Esta parte já foi feita, pois eu já conheço os dados. Cada dataframe corresponde a uma listagem, contendo as seguintes colunas:\n",
    "* index\n",
    "* MZ\n",
    "* UEU\n",
    "* QRT\n",
    "* estq_max_##"
   ]
  },
  {
   "cell_type": "markdown",
   "metadata": {},
   "source": [
    "### 3. Limpeza"
   ]
  },
  {
   "cell_type": "markdown",
   "metadata": {},
   "source": [
    "Nesse caso não há nada o que tirar, mas é preciso adicionar a coluna MZUEUQRT, que serve como chave para muitas operações"
   ]
  },
  {
   "cell_type": "markdown",
   "metadata": {},
   "source": [
    "YES!"
   ]
  },
  {
   "cell_type": "code",
   "execution_count": 15,
   "metadata": {},
   "outputs": [],
   "source": [
    "estq_max_01 = db_estq[0]\n",
    "estq_max_02 = db_estq[1]\n",
    "estq_max_03 = db_estq[2]\n",
    "estq_max_04 = db_estq[3]\n",
    "estq_max_05 = db_estq[4]\n",
    "estq_max_06 = db_estq[5]\n",
    "estq_max_07 = db_estq[6]\n",
    "estq_max_08 = db_estq[7]\n",
    "estq_max_09 = db_estq[8]\n",
    "estq_max_10 = db_estq[9]\n",
    "estq_max_11 = db_estq[10]\n",
    "estq_max_12 = db_estq[11]\n",
    "estq_max_13 = db_estq[12]\n",
    "estq_max_14 = db_estq[13]\n",
    "estq_max_15 = db_estq[14]\n",
    "estq_max_16 = db_estq[15]"
   ]
  },
  {
   "cell_type": "code",
   "execution_count": 23,
   "metadata": {},
   "outputs": [
    {
     "data": {
      "text/html": [
       "<div>\n",
       "<style scoped>\n",
       "    .dataframe tbody tr th:only-of-type {\n",
       "        vertical-align: middle;\n",
       "    }\n",
       "\n",
       "    .dataframe tbody tr th {\n",
       "        vertical-align: top;\n",
       "    }\n",
       "\n",
       "    .dataframe thead th {\n",
       "        text-align: right;\n",
       "    }\n",
       "</style>\n",
       "<table border=\"1\" class=\"dataframe\">\n",
       "  <thead>\n",
       "    <tr style=\"text-align: right;\">\n",
       "      <th></th>\n",
       "      <th>MZ</th>\n",
       "      <th>UEU</th>\n",
       "      <th>QRT</th>\n",
       "      <th>estq_max_01</th>\n",
       "      <th>estq_max_02</th>\n",
       "    </tr>\n",
       "    <tr>\n",
       "      <th>MZUEUQRT</th>\n",
       "      <th></th>\n",
       "      <th></th>\n",
       "      <th></th>\n",
       "      <th></th>\n",
       "      <th></th>\n",
       "    </tr>\n",
       "  </thead>\n",
       "  <tbody>\n",
       "    <tr>\n",
       "      <th>1002001</th>\n",
       "      <td>1.0</td>\n",
       "      <td>2.0</td>\n",
       "      <td>1.0</td>\n",
       "      <td>AE</td>\n",
       "      <td>NaN</td>\n",
       "    </tr>\n",
       "    <tr>\n",
       "      <th>1002003</th>\n",
       "      <td>1.0</td>\n",
       "      <td>2.0</td>\n",
       "      <td>3.0</td>\n",
       "      <td>AE</td>\n",
       "      <td>AE</td>\n",
       "    </tr>\n",
       "    <tr>\n",
       "      <th>1002005</th>\n",
       "      <td>1.0</td>\n",
       "      <td>2.0</td>\n",
       "      <td>5.0</td>\n",
       "      <td>AE</td>\n",
       "      <td>AE</td>\n",
       "    </tr>\n",
       "    <tr>\n",
       "      <th>1004003</th>\n",
       "      <td>1.0</td>\n",
       "      <td>4.0</td>\n",
       "      <td>3.0</td>\n",
       "      <td>AE</td>\n",
       "      <td>AE</td>\n",
       "    </tr>\n",
       "    <tr>\n",
       "      <th>1004005</th>\n",
       "      <td>1.0</td>\n",
       "      <td>4.0</td>\n",
       "      <td>5.0</td>\n",
       "      <td>1388.5667</td>\n",
       "      <td>1388.5667</td>\n",
       "    </tr>\n",
       "    <tr>\n",
       "      <th>...</th>\n",
       "      <td>...</td>\n",
       "      <td>...</td>\n",
       "      <td>...</td>\n",
       "      <td>...</td>\n",
       "      <td>...</td>\n",
       "    </tr>\n",
       "    <tr>\n",
       "      <th>8084023</th>\n",
       "      <td>8.0</td>\n",
       "      <td>84.0</td>\n",
       "      <td>23.0</td>\n",
       "      <td>0.0</td>\n",
       "      <td>0.0</td>\n",
       "    </tr>\n",
       "    <tr>\n",
       "      <th>8084025</th>\n",
       "      <td>8.0</td>\n",
       "      <td>84.0</td>\n",
       "      <td>25.0</td>\n",
       "      <td>0.0</td>\n",
       "      <td>0.0</td>\n",
       "    </tr>\n",
       "    <tr>\n",
       "      <th>8084027</th>\n",
       "      <td>8.0</td>\n",
       "      <td>84.0</td>\n",
       "      <td>27.0</td>\n",
       "      <td>0.0</td>\n",
       "      <td>0.0</td>\n",
       "    </tr>\n",
       "    <tr>\n",
       "      <th>8084029</th>\n",
       "      <td>8.0</td>\n",
       "      <td>84.0</td>\n",
       "      <td>29.0</td>\n",
       "      <td>0.0</td>\n",
       "      <td>0.0</td>\n",
       "    </tr>\n",
       "    <tr>\n",
       "      <th>1044001</th>\n",
       "      <td>NaN</td>\n",
       "      <td>NaN</td>\n",
       "      <td>NaN</td>\n",
       "      <td>NaN</td>\n",
       "      <td>AE</td>\n",
       "    </tr>\n",
       "  </tbody>\n",
       "</table>\n",
       "<p>6270 rows × 5 columns</p>\n",
       "</div>"
      ],
      "text/plain": [
       "           MZ   UEU   QRT estq_max_01 estq_max_02\n",
       "MZUEUQRT                                         \n",
       "1002001   1.0   2.0   1.0          AE         NaN\n",
       "1002003   1.0   2.0   3.0          AE          AE\n",
       "1002005   1.0   2.0   5.0          AE          AE\n",
       "1004003   1.0   4.0   3.0          AE          AE\n",
       "1004005   1.0   4.0   5.0   1388.5667   1388.5667\n",
       "...       ...   ...   ...         ...         ...\n",
       "8084023   8.0  84.0  23.0         0.0         0.0\n",
       "8084025   8.0  84.0  25.0         0.0         0.0\n",
       "8084027   8.0  84.0  27.0         0.0         0.0\n",
       "8084029   8.0  84.0  29.0         0.0         0.0\n",
       "1044001   NaN   NaN   NaN         NaN          AE\n",
       "\n",
       "[6270 rows x 5 columns]"
      ]
     },
     "execution_count": 23,
     "metadata": {},
     "output_type": "execute_result"
    }
   ],
   "source": [
    "db_estq[0]\n",
    "\n",
    "teste_01_02 = pd.merge(left=estq_max_01, right=estq_max_02['estq_max_02'], how='outer', on='MZUEUQRT')\n",
    "teste_01_02"
   ]
  },
  {
   "cell_type": "markdown",
   "metadata": {},
   "source": [
    "**Feito!**"
   ]
  },
  {
   "cell_type": "markdown",
   "metadata": {},
   "source": [
    "Agora a funÇao que vai criar o dataframe com a listagem completa, agregando todas as listagens até o momento"
   ]
  },
  {
   "cell_type": "code",
   "execution_count": null,
   "metadata": {},
   "outputs": [],
   "source": [
    "def estq_max(database):\n",
    "    \"\"\"Receives a database containing \n",
    "    all dataframes, and aggregates them.\"\"\"\n",
    "\n",
    "    estq_max = []\n",
    "\n",
    "    \n",
    "    pass\n",
    "\n",
    "    "
   ]
  }
 ],
 "metadata": {
  "interpreter": {
   "hash": "4e789ad8dc514a7ed0f24b48b0f9baee4c4660a5328bcde4373ca9458448a524"
  },
  "kernelspec": {
   "display_name": "Python 3.9.7 ('base')",
   "language": "python",
   "name": "python3"
  },
  "language_info": {
   "codemirror_mode": {
    "name": "ipython",
    "version": 3
   },
   "file_extension": ".py",
   "mimetype": "text/x-python",
   "name": "python",
   "nbconvert_exporter": "python",
   "pygments_lexer": "ipython3",
   "version": "3.10.4"
  },
  "orig_nbformat": 4
 },
 "nbformat": 4,
 "nbformat_minor": 2
}
