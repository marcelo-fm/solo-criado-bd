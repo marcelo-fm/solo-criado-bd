{
 "cells": [
  {
   "cell_type": "markdown",
   "metadata": {},
   "source": [
    "# Banco de dados Solo Criado: Take 1"
   ]
  },
  {
   "cell_type": "markdown",
   "metadata": {},
   "source": [
    "Vou fazer primeiro no notebook para ir testando, depois passo para o arquivo .py"
   ]
  },
  {
   "cell_type": "markdown",
   "metadata": {},
   "source": [
    "## Roadmap\n",
    "\n",
    "* Coletar listagem do site da prefeitura\n",
    "* Transformar pdf da listagem em xmls por este site\n",
    "* Transformar xmls em cvs\n",
    "* Carregar cvs de listagem para o banco de dados\n",
    "  * Extração;\n",
    "  * Exploração;\n",
    "  * Limpeza;\n",
    "  * Agregação;\n",
    "  * Visualização;\n",
    "  * Storytelling."
   ]
  },
  {
   "cell_type": "markdown",
   "metadata": {},
   "source": [
    "## Primeira parte: Coleta e transformação dos dados"
   ]
  },
  {
   "cell_type": "markdown",
   "metadata": {},
   "source": [
    "from [here](https://www.edureka.co/blog/web-scraping-with-python/): <br>\n",
    "Libraries used for Web Scraping  <br>\n",
    "As we know, Python is has various applications and there are different libraries for different purposes. In our further demonstration, we will be using the following libraries: <br>\n",
    "<br>\n",
    "**Selenium**:  Selenium is a web testing library. It is used to automate browser activities. <br>\n",
    "**BeautifulSoup**: Beautiful Soup is a Python package for parsing HTML and XML documents. It creates parse trees that is helpful to extract the data easily.<br>\n",
    "Pandas: Pandas is a library used for data manipulation and analysis. It is used to extract the data and store it in the desired format. "
   ]
  },
  {
   "cell_type": "markdown",
   "metadata": {},
   "source": [
    "Eu tenho que baixar com requests somente a parte que me interessa (div id=\"conteudo\" class=\"outros\") <br>\n",
    "Ou usar o bs4 pra retirar somente essa parte do todo"
   ]
  },
  {
   "cell_type": "markdown",
   "metadata": {},
   "source": [
    "O código abaixo recebe e cria um arquivo html com os dados da página de listagens."
   ]
  },
  {
   "cell_type": "code",
   "execution_count": null,
   "metadata": {},
   "outputs": [],
   "source": [
    "#import requests\n",
    "#\n",
    "#url = 'http://www2.portoalegre.rs.gov.br/edificapoa/default.php?p_secao=1445'\n",
    "#r = requests.get(url)\n",
    "#\n",
    "#open('estoques.html', 'wb').write(r.content)"
   ]
  },
  {
   "cell_type": "markdown",
   "metadata": {},
   "source": [
    "O código abaixo (em andamento) serve para limpar o html e eventualmente retirar os links das listagens em pdf"
   ]
  },
  {
   "cell_type": "code",
   "execution_count": null,
   "metadata": {},
   "outputs": [],
   "source": [
    "#from bs4 import BeautifulSoup\n",
    "#\n",
    "#with open('estoques.html') as fp:\n",
    "#    soup = BeautifulSoup(fp, 'html.parser')\n",
    "#\n",
    "#conteudo = soup.find(id=\"conteudo\")\n",
    "#conteudo.find_all('strong')\n",
    "#conteudo.find_all('a')\n",
    "#for link in conteudo.find_all('a'):\n",
    "#    print(link.get('href'))"
   ]
  },
  {
   "cell_type": "markdown",
   "metadata": {},
   "source": [
    "Ao longo do tempo o formato de cada entrada de listagem mudou, então o ideal seria criar uma lista com as listagens já existentes e ir adicionando com base na ultima listagem. O problema é se mudarem o formato de divulgação de novo. acho que vou focar somente na parte de banco de dados que á mais útil e confiável, por enquanto."
   ]
  },
  {
   "cell_type": "markdown",
   "metadata": {},
   "source": [
    "## Segunda parte: a criação do banco de dados"
   ]
  },
  {
   "cell_type": "markdown",
   "metadata": {},
   "source": [
    "### 1. Extração"
   ]
  },
  {
   "cell_type": "markdown",
   "metadata": {},
   "source": [
    "imports"
   ]
  },
  {
   "cell_type": "code",
   "execution_count": null,
   "metadata": {},
   "outputs": [],
   "source": [
    "import pandas as pd\n",
    "import os\n",
    "#import numpy as np\n",
    "import functools as ft"
   ]
  },
  {
   "cell_type": "markdown",
   "metadata": {},
   "source": [
    "lista de arquivos"
   ]
  },
  {
   "cell_type": "code",
   "execution_count": null,
   "metadata": {},
   "outputs": [],
   "source": [
    "print(os.listdir(\"./dados/ListagemSoloCriado/XLSX\"))"
   ]
  },
  {
   "cell_type": "markdown",
   "metadata": {},
   "source": [
    "join_sheet"
   ]
  },
  {
   "cell_type": "code",
   "execution_count": null,
   "metadata": {},
   "outputs": [],
   "source": [
    "def join_sheet(file):\n",
    "    \"\"\"Receives a excel file path and\n",
    "    returns a dataframe with his sheets\n",
    "    appended. Also fix third column name.\"\"\"\n",
    "\n",
    "    sheet_list = pd.ExcelFile(file).sheet_names\n",
    "    df_list = []\n",
    "    for sheet in sheet_list:\n",
    "        df_list.append(pd.read_excel(io=file, sheet_name=sheet, header=1))\n",
    "    \n",
    "    listagem = pd.concat(objs=df_list, ignore_index=True)\n",
    "    \n",
    "    colunas = listagem.columns.to_list()\n",
    "    colunas[-1] = 'estq_max_' + file[-7:-5]\n",
    "    listagem.columns = colunas\n",
    "\n",
    "    return listagem\n"
   ]
  },
  {
   "cell_type": "markdown",
   "metadata": {},
   "source": [
    "mzueuqrt"
   ]
  },
  {
   "cell_type": "code",
   "execution_count": null,
   "metadata": {},
   "outputs": [],
   "source": [
    "def mzueuqrt(dataframe: list):\n",
    "    \"\"\"Receives a dataframe, adds\n",
    "    the MZUEUQRT column in the [-1]\n",
    "    position, and makes it the index.\"\"\"\n",
    "\n",
    "    new_columns = list(dataframe.columns)\n",
    "    new_columns.insert(-1, 'MZUEUQRT')\n",
    "    dataframe = dataframe.reindex(columns=new_columns)\n",
    "    #Agora vem o calculo da columa MZUEUQRT\n",
    "    \n",
    "    dataframe['MZUEUQRT'] = (dataframe['MZ']*1000000) + (dataframe['UEU']*1000) + (dataframe['QRT'])\n",
    "\n",
    "    return dataframe"
   ]
  },
  {
   "cell_type": "markdown",
   "metadata": {},
   "source": [
    "db_manager"
   ]
  },
  {
   "cell_type": "code",
   "execution_count": null,
   "metadata": {},
   "outputs": [],
   "source": [
    "def db_manager(path=any, database=[]):\n",
    "    \"\"\"Receives a path to Excel files and \n",
    "    a list containing dataframes, checks if \n",
    "    there is any file that is not in the database, \n",
    "    adds the missing files to database if there is any \n",
    "    and returns the updated database.\"\"\"\n",
    "\n",
    "    files = os.listdir(path)\n",
    "    files.sort()\n",
    "    \n",
    "    if len(database) == len(files): #Não há nenhum dado novo a ser adicionado\n",
    "        print(\"O banco de dados já está atualizado.\")\n",
    "        return database\n",
    "    elif len(database) > len(files): #Há algum problema, pois o BD possui mais entradas do que a pasta de arquivos\n",
    "        print(\"O banco de dados possui mais entradas do que a pasta de arquivos\")\n",
    "        return database\n",
    "    elif len(database) < len(files): #Existem novas listagens que não foram adicionadas ao BD\n",
    "        print(\"O banco de dados está desatualizado\")\n",
    "        for i in range(len(database), len(files)):\n",
    "            listagem = mzueuqrt(join_sheet(path + \"/\" + files[i]))\n",
    "            listagem = listagem.set_index('MZUEUQRT')\n",
    "            database.append(listagem)\n",
    "            print(\"Adicionando listagem\", (i+1))\n",
    "\n",
    "    return database\n",
    "    "
   ]
  },
  {
   "cell_type": "markdown",
   "metadata": {},
   "source": [
    "Testando a função db_manager"
   ]
  },
  {
   "cell_type": "code",
   "execution_count": null,
   "metadata": {},
   "outputs": [],
   "source": [
    "db_estq = db_manager(\"./dados/ListagemSoloCriado/XLSX\")\n"
   ]
  },
  {
   "cell_type": "code",
   "execution_count": null,
   "metadata": {},
   "outputs": [],
   "source": [
    "#estq_max_01 = db_estq[0]\n",
    "#estq_max_02 = db_estq[1]\n",
    "#estq_max_03 = db_estq[2]\n",
    "#estq_max_04 = db_estq[3]\n",
    "#estq_max_05 = db_estq[4]\n",
    "#estq_max_06 = db_estq[5]\n",
    "#estq_max_07 = db_estq[6]\n",
    "#estq_max_08 = db_estq[7]\n",
    "#estq_max_09 = db_estq[8]\n",
    "#estq_max_10 = db_estq[9]\n",
    "#estq_max_11 = db_estq[10]\n",
    "#estq_max_12 = db_estq[11]\n",
    "#estq_max_13 = db_estq[12]\n",
    "#estq_max_14 = db_estq[13]\n",
    "#estq_max_15 = db_estq[14]\n",
    "#estq_max_16 = db_estq[15]"
   ]
  },
  {
   "cell_type": "markdown",
   "metadata": {},
   "source": [
    "## Terceira parte: Manipulação do Banco de Dados"
   ]
  },
  {
   "cell_type": "markdown",
   "metadata": {},
   "source": [
    "### Agregação"
   ]
  },
  {
   "cell_type": "markdown",
   "metadata": {},
   "source": [
    "estoque_maximo"
   ]
  },
  {
   "cell_type": "code",
   "execution_count": null,
   "metadata": {},
   "outputs": [],
   "source": [
    "def estoque_maximo(database):\n",
    "    \"\"\"Receives a database containing \n",
    "    all dataframes, and aggregates them.\"\"\"\n",
    "\n",
    "    estq_max = database[0]\n",
    "\n",
    "    for i in range(1, len(database)):\n",
    "        if i < 9: #Somente para não ter erro com a coluna da direita        \\/\n",
    "            estq_max = pd.merge(left=estq_max, right=database[i][('estq_max_0'+str(i+1))], how='outer', on='MZUEUQRT')\n",
    "        else:\n",
    "            estq_max = pd.merge(left=estq_max, right=database[i][('estq_max_'+str(i+1))], how='outer', on='MZUEUQRT')\n",
    "    \n",
    "    return estq_max"
   ]
  },
  {
   "cell_type": "markdown",
   "metadata": {},
   "source": [
    "testando a função estoque_maximo"
   ]
  },
  {
   "cell_type": "code",
   "execution_count": null,
   "metadata": {},
   "outputs": [],
   "source": [
    "estq_max_num = estoque_maximo(db_estq)\n",
    "estq_max_num"
   ]
  },
  {
   "cell_type": "code",
   "execution_count": null,
   "metadata": {},
   "outputs": [],
   "source": [
    "#estq_max_num.index[estq_max_num['estq_max_01'] = = 'AE'].tolist()"
   ]
  },
  {
   "cell_type": "code",
   "execution_count": null,
   "metadata": {},
   "outputs": [],
   "source": [
    "#type(estq_max_num['estq_max_01'][1004005])\n",
    "estq_max_num['estq_max_01']"
   ]
  },
  {
   "cell_type": "markdown",
   "metadata": {},
   "source": [
    "Função que separa as áreas especiais"
   ]
  },
  {
   "cell_type": "code",
   "execution_count": null,
   "metadata": {},
   "outputs": [],
   "source": [
    "def retira_ae(dataframe):\n",
    "    colunas = list(dataframe.columns)\n",
    "\n",
    "    for i in range(3, len(colunas)):\n",
    "        area_especial = list(dataframe.index[dataframe[colunas[i]] == 'AE'])\n",
    "        dataframe.drop(labels=area_especial, axis=0, inplace=True)\n",
    "    \n",
    "    return dataframe\n"
   ]
  },
  {
   "cell_type": "code",
   "execution_count": null,
   "metadata": {},
   "outputs": [],
   "source": [
    "def retorna_ae(dataframe):\n",
    "    colunas = list(dataframe.columns)\n",
    "\n",
    "    for i in range(3, len(colunas)):\n",
    "        area_especial = list(dataframe.index[dataframe[colunas[i]] != 'AE'])\n",
    "        dataframe.drop(labels=area_especial, axis=0, inplace=True)\n",
    "    \n",
    "    return dataframe"
   ]
  },
  {
   "cell_type": "code",
   "execution_count": null,
   "metadata": {},
   "outputs": [],
   "source": [
    "#area_especial = list(estq_max_num.index[estq_max_num['estq_max_01'] == 'AE'])\n",
    "area_especial = retira_ae(estq_max_num)\n",
    "area_especial.head(5)"
   ]
  },
  {
   "cell_type": "code",
   "execution_count": null,
   "metadata": {},
   "outputs": [],
   "source": [
    "teste = pd.DataFrame({'a': [1, 2, 3], 'b': [2, 3, 4], 'c': [3, 4, 5]})\n",
    "\n",
    "colunas = list(teste.columns)\n",
    "teste[colunas[2]] = teste[colunas[0]] - teste[colunas[1]]\n",
    "teste"
   ]
  },
  {
   "cell_type": "code",
   "execution_count": null,
   "metadata": {},
   "outputs": [],
   "source": [
    "rem = teste.index[teste['a'] == 2].tolist()\n",
    "teste.drop(labels=rem, axis=0) #sucesso"
   ]
  },
  {
   "cell_type": "markdown",
   "metadata": {},
   "source": [
    "Agora uma função que cria o dataframe de uso de solo criado"
   ]
  },
  {
   "cell_type": "code",
   "execution_count": null,
   "metadata": {},
   "outputs": [],
   "source": [
    "def uso_estoque(dataframe):\n",
    "     dataframe = retira_ae(dataframe)\n",
    "     colunas = list(dataframe.columns) \n",
    "\n",
    "     df2 = dataframe\n",
    "     for i in range(4, len(colunas)):\n",
    "          df2[colunas[i]] = (dataframe[colunas[3]] - dataframe[colunas[i]])\n",
    "          colunas[i] = 'uso_estq_' + colunas[i][-2:]\n",
    "     \n",
    "     colunas[3] = 'uso_estq_' + colunas[3][-2:]\n",
    "     df2.columns = colunas\n",
    "     \n",
    "     return dataframe"
   ]
  },
  {
   "cell_type": "code",
   "execution_count": null,
   "metadata": {},
   "outputs": [],
   "source": [
    "uso_estq = uso_estoque(estq_max_num)\n",
    "#uso_estq\n",
    "estq_max_num"
   ]
  },
  {
   "cell_type": "code",
   "execution_count": null,
   "metadata": {},
   "outputs": [],
   "source": []
  }
 ],
 "metadata": {
  "interpreter": {
   "hash": "b4d82ed060ea6fec03257f11c047a25a611cf1733154a671d452d9330b203ba1"
  },
  "kernelspec": {
   "display_name": "Python 3.10.4 64-bit",
   "language": "python",
   "name": "python3"
  },
  "language_info": {
   "codemirror_mode": {
    "name": "ipython",
    "version": 3
   },
   "file_extension": ".py",
   "mimetype": "text/x-python",
   "name": "python",
   "nbconvert_exporter": "python",
   "pygments_lexer": "ipython3",
   "version": "3.10.4"
  },
  "orig_nbformat": 4
 },
 "nbformat": 4,
 "nbformat_minor": 2
}
