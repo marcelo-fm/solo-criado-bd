{
 "cells": [
  {
   "cell_type": "markdown",
   "metadata": {},
   "source": [
    "# Banco de dados Solo Criado: Take 1"
   ]
  },
  {
   "cell_type": "markdown",
   "metadata": {},
   "source": [
    "Vou fazer primeiro no notebook para ir testando, depois passo para o arquivo .py"
   ]
  },
  {
   "cell_type": "markdown",
   "metadata": {},
   "source": [
    "## Roadmap\n",
    "\n",
    "* Coletar listagem do site da prefeitura\n",
    "* Transformar pdf da listagem em xmls por este site\n",
    "* Transformar xmls em cvs\n",
    "* Carregar cvs de listagem para o banco de dados\n",
    "  * Extração;\n",
    "  * Exploração;\n",
    "  * Limpeza;\n",
    "  * Agregação;\n",
    "  * Visualização;\n",
    "  * Storytelling."
   ]
  },
  {
   "cell_type": "markdown",
   "metadata": {},
   "source": [
    "## Primeira parte: Coleta e transformação dos dados"
   ]
  },
  {
   "cell_type": "markdown",
   "metadata": {},
   "source": [
    "from [here](https://www.edureka.co/blog/web-scraping-with-python/): <br>\n",
    "Libraries used for Web Scraping  <br>\n",
    "As we know, Python is has various applications and there are different libraries for different purposes. In our further demonstration, we will be using the following libraries: <br>\n",
    "<br>\n",
    "**Selenium**:  Selenium is a web testing library. It is used to automate browser activities. <br>\n",
    "**BeautifulSoup**: Beautiful Soup is a Python package for parsing HTML and XML documents. It creates parse trees that is helpful to extract the data easily.<br>\n",
    "Pandas: Pandas is a library used for data manipulation and analysis. It is used to extract the data and store it in the desired format. "
   ]
  },
  {
   "cell_type": "markdown",
   "metadata": {},
   "source": [
    "Eu tenho que baixar com requests somente a parte que me interessa (div id=\"conteudo\" class=\"outros\") <br>\n",
    "Ou usar o bs4 pra retirar somente essa parte do todo"
   ]
  },
  {
   "cell_type": "markdown",
   "metadata": {},
   "source": [
    "O código abaixo recebe e cria um arquivo html com os dados da página de listagens."
   ]
  },
  {
   "cell_type": "code",
   "execution_count": 7,
   "metadata": {},
   "outputs": [],
   "source": [
    "#import requests\n",
    "#\n",
    "#url = 'http://www2.portoalegre.rs.gov.br/edificapoa/default.php?p_secao=1445'\n",
    "#r = requests.get(url)\n",
    "#\n",
    "#open('estoques.html', 'wb').write(r.content)"
   ]
  },
  {
   "cell_type": "markdown",
   "metadata": {},
   "source": [
    "O código abaixo (em andamento) serve para limpar o html e eventualmente retirar os links das listagens em pdf"
   ]
  },
  {
   "cell_type": "code",
   "execution_count": 8,
   "metadata": {},
   "outputs": [],
   "source": [
    "#from bs4 import BeautifulSoup\n",
    "#\n",
    "#with open('estoques.html') as fp:\n",
    "#    soup = BeautifulSoup(fp, 'html.parser')\n",
    "#\n",
    "#conteudo = soup.find(id=\"conteudo\")\n",
    "#conteudo.find_all('strong')\n",
    "#conteudo.find_all('a')\n",
    "#for link in conteudo.find_all('a'):\n",
    "#    print(link.get('href'))"
   ]
  },
  {
   "cell_type": "markdown",
   "metadata": {},
   "source": [
    "Ao longo do tempo o formato de cada entrada de listagem mudou, então o ideal seria criar uma lista com as listagens já existentes e ir adicionando com base na ultima listagem. O problema é se mudarem o formato de divulgação de novo. acho que vou focar somente na parte de banco de dados que á mais útil e confiável, por enquanto."
   ]
  },
  {
   "cell_type": "markdown",
   "metadata": {},
   "source": [
    "## Segunda parte: a criação do banco de dados"
   ]
  },
  {
   "cell_type": "code",
   "execution_count": 2,
   "metadata": {},
   "outputs": [
    {
     "name": "stdout",
     "output_type": "stream",
     "text": [
      "['Table 1', 'Table 2', 'Table 3']\n"
     ]
    },
    {
     "data": {
      "text/html": [
       "<div>\n",
       "<style scoped>\n",
       "    .dataframe tbody tr th:only-of-type {\n",
       "        vertical-align: middle;\n",
       "    }\n",
       "\n",
       "    .dataframe tbody tr th {\n",
       "        vertical-align: top;\n",
       "    }\n",
       "\n",
       "    .dataframe thead th {\n",
       "        text-align: right;\n",
       "    }\n",
       "</style>\n",
       "<table border=\"1\" class=\"dataframe\">\n",
       "  <thead>\n",
       "    <tr style=\"text-align: right;\">\n",
       "      <th></th>\n",
       "      <th>MZ</th>\n",
       "      <th>UEU</th>\n",
       "      <th>QRT</th>\n",
       "      <th>Unnamed: 3</th>\n",
       "    </tr>\n",
       "  </thead>\n",
       "  <tbody>\n",
       "    <tr>\n",
       "      <th>0</th>\n",
       "      <td>1</td>\n",
       "      <td>2</td>\n",
       "      <td>1</td>\n",
       "      <td>AE</td>\n",
       "    </tr>\n",
       "    <tr>\n",
       "      <th>1</th>\n",
       "      <td>1</td>\n",
       "      <td>2</td>\n",
       "      <td>3</td>\n",
       "      <td>AE</td>\n",
       "    </tr>\n",
       "    <tr>\n",
       "      <th>2</th>\n",
       "      <td>1</td>\n",
       "      <td>2</td>\n",
       "      <td>5</td>\n",
       "      <td>AE</td>\n",
       "    </tr>\n",
       "    <tr>\n",
       "      <th>3</th>\n",
       "      <td>1</td>\n",
       "      <td>4</td>\n",
       "      <td>3</td>\n",
       "      <td>AE</td>\n",
       "    </tr>\n",
       "    <tr>\n",
       "      <th>4</th>\n",
       "      <td>1</td>\n",
       "      <td>4</td>\n",
       "      <td>5</td>\n",
       "      <td>1388.5667</td>\n",
       "    </tr>\n",
       "  </tbody>\n",
       "</table>\n",
       "</div>"
      ],
      "text/plain": [
       "   MZ  UEU  QRT Unnamed: 3\n",
       "0   1    2    1         AE\n",
       "1   1    2    3         AE\n",
       "2   1    2    5         AE\n",
       "3   1    4    3         AE\n",
       "4   1    4    5  1388.5667"
      ]
     },
     "execution_count": 2,
     "metadata": {},
     "output_type": "execute_result"
    }
   ],
   "source": [
    "import pandas as pd\n",
    "import os\n",
    "\n",
    "\n",
    "listas_base = []\n",
    "caminho = './dados/ListagemSoloCriado/XLSX/estq-max-01.xlsx'\n",
    "sheet = pd.ExcelFile('./dados/ListagemSoloCriado/XLSX/estq-max-01.xlsx').sheet_names\n",
    "print(sheet)\n",
    "df_estq_01 = pd.read_excel(io='./dados/ListagemSoloCriado/XLSX/estq-max-01.xlsx', sheet_name='Table 1', header=1)\n",
    "\n",
    "df_estq_01.head(5)"
   ]
  },
  {
   "cell_type": "markdown",
   "metadata": {},
   "source": [
    "Para cada um dos arquivos, tem que puxar a lista de sheets e adicionar cada uma delas na base de dados"
   ]
  },
  {
   "cell_type": "code",
   "execution_count": 5,
   "metadata": {},
   "outputs": [
    {
     "data": {
      "text/plain": [
       "['estq-max-01.xlsx',\n",
       " 'estq-max-02.xlsx',\n",
       " 'estq-max-03.xlsx',\n",
       " 'estq-max-04.xlsx',\n",
       " 'estq-max-05.xlsx',\n",
       " 'estq-max-06.xlsx',\n",
       " 'estq-max-07.xlsx',\n",
       " 'estq-max-08.xlsx',\n",
       " 'estq-max-09.xlsx',\n",
       " 'estq-max-10.xlsx',\n",
       " 'estq-max-11.xlsx',\n",
       " 'estq-max-12.xlsx',\n",
       " 'estq-max-13.xlsx',\n",
       " 'estq-max-14.xlsx',\n",
       " 'estq-max-15.xlsx',\n",
       " 'estq-max-16.xlsx']"
      ]
     },
     "execution_count": 5,
     "metadata": {},
     "output_type": "execute_result"
    }
   ],
   "source": [
    "os.listdir(\"./dados/ListagemSoloCriado/XLSX\")"
   ]
  },
  {
   "cell_type": "markdown",
   "metadata": {},
   "source": [
    "Esta função junta as tabelas de um arquivo"
   ]
  },
  {
   "cell_type": "code",
   "execution_count": 7,
   "metadata": {},
   "outputs": [],
   "source": [
    "def join_sheet(file):\n",
    "    \"\"\"Receives a excel file path and\n",
    "    returns a dataframe with his sheets\n",
    "    appended.\"\"\"\n",
    "\n",
    "    sheet_list = pd.ExcelFile(file).sheet_names\n",
    "    df_list = []\n",
    "    for sheet in sheet_list:\n",
    "        df_list.append(pd.read_excel(io=file, sheet_name=sheet, header=1))\n",
    "    listagem = pd.concat(objs=df_list, ignore_index=True)\n",
    "    colunas = listagem.columns.to_list()\n",
    "    colunas[-1] = 'estq_max_' + file[-7:-5]\n",
    "    listagem.columns = colunas\n",
    "\n",
    "    return listagem\n"
   ]
  },
  {
   "cell_type": "code",
   "execution_count": 8,
   "metadata": {},
   "outputs": [
    {
     "data": {
      "text/html": [
       "<div>\n",
       "<style scoped>\n",
       "    .dataframe tbody tr th:only-of-type {\n",
       "        vertical-align: middle;\n",
       "    }\n",
       "\n",
       "    .dataframe tbody tr th {\n",
       "        vertical-align: top;\n",
       "    }\n",
       "\n",
       "    .dataframe thead th {\n",
       "        text-align: right;\n",
       "    }\n",
       "</style>\n",
       "<table border=\"1\" class=\"dataframe\">\n",
       "  <thead>\n",
       "    <tr style=\"text-align: right;\">\n",
       "      <th></th>\n",
       "      <th>MZ</th>\n",
       "      <th>UEU</th>\n",
       "      <th>QRT</th>\n",
       "      <th>estq_max_01</th>\n",
       "    </tr>\n",
       "  </thead>\n",
       "  <tbody>\n",
       "    <tr>\n",
       "      <th>0</th>\n",
       "      <td>1</td>\n",
       "      <td>2</td>\n",
       "      <td>1</td>\n",
       "      <td>AE</td>\n",
       "    </tr>\n",
       "    <tr>\n",
       "      <th>1</th>\n",
       "      <td>1</td>\n",
       "      <td>2</td>\n",
       "      <td>3</td>\n",
       "      <td>AE</td>\n",
       "    </tr>\n",
       "    <tr>\n",
       "      <th>2</th>\n",
       "      <td>1</td>\n",
       "      <td>2</td>\n",
       "      <td>5</td>\n",
       "      <td>AE</td>\n",
       "    </tr>\n",
       "    <tr>\n",
       "      <th>3</th>\n",
       "      <td>1</td>\n",
       "      <td>4</td>\n",
       "      <td>3</td>\n",
       "      <td>AE</td>\n",
       "    </tr>\n",
       "    <tr>\n",
       "      <th>4</th>\n",
       "      <td>1</td>\n",
       "      <td>4</td>\n",
       "      <td>5</td>\n",
       "      <td>1388.5667</td>\n",
       "    </tr>\n",
       "    <tr>\n",
       "      <th>...</th>\n",
       "      <td>...</td>\n",
       "      <td>...</td>\n",
       "      <td>...</td>\n",
       "      <td>...</td>\n",
       "    </tr>\n",
       "    <tr>\n",
       "      <th>6264</th>\n",
       "      <td>8</td>\n",
       "      <td>84</td>\n",
       "      <td>21</td>\n",
       "      <td>0.0</td>\n",
       "    </tr>\n",
       "    <tr>\n",
       "      <th>6265</th>\n",
       "      <td>8</td>\n",
       "      <td>84</td>\n",
       "      <td>23</td>\n",
       "      <td>0.0</td>\n",
       "    </tr>\n",
       "    <tr>\n",
       "      <th>6266</th>\n",
       "      <td>8</td>\n",
       "      <td>84</td>\n",
       "      <td>25</td>\n",
       "      <td>0.0</td>\n",
       "    </tr>\n",
       "    <tr>\n",
       "      <th>6267</th>\n",
       "      <td>8</td>\n",
       "      <td>84</td>\n",
       "      <td>27</td>\n",
       "      <td>0.0</td>\n",
       "    </tr>\n",
       "    <tr>\n",
       "      <th>6268</th>\n",
       "      <td>8</td>\n",
       "      <td>84</td>\n",
       "      <td>29</td>\n",
       "      <td>0.0</td>\n",
       "    </tr>\n",
       "  </tbody>\n",
       "</table>\n",
       "<p>6269 rows × 4 columns</p>\n",
       "</div>"
      ],
      "text/plain": [
       "      MZ  UEU  QRT estq_max_01\n",
       "0      1    2    1          AE\n",
       "1      1    2    3          AE\n",
       "2      1    2    5          AE\n",
       "3      1    4    3          AE\n",
       "4      1    4    5   1388.5667\n",
       "...   ..  ...  ...         ...\n",
       "6264   8   84   21         0.0\n",
       "6265   8   84   23         0.0\n",
       "6266   8   84   25         0.0\n",
       "6267   8   84   27         0.0\n",
       "6268   8   84   29         0.0\n",
       "\n",
       "[6269 rows x 4 columns]"
      ]
     },
     "execution_count": 8,
     "metadata": {},
     "output_type": "execute_result"
    }
   ],
   "source": [
    "estq_01 = join_sheet(caminho)\n",
    "estq_01\n",
    "\n"
   ]
  },
  {
   "cell_type": "markdown",
   "metadata": {},
   "source": [
    "**Feito!**"
   ]
  },
  {
   "cell_type": "markdown",
   "metadata": {},
   "source": [
    "Agora a função que junta MZUEUQRT"
   ]
  },
  {
   "cell_type": "code",
   "execution_count": 1,
   "metadata": {},
   "outputs": [
    {
     "ename": "NameError",
     "evalue": "name 'listagem' is not defined",
     "output_type": "error",
     "traceback": [
      "\u001b[1;31m---------------------------------------------------------------------------\u001b[0m",
      "\u001b[1;31mNameError\u001b[0m                                 Traceback (most recent call last)",
      "\u001b[1;32mc:\\Users\\m_fos\\Documents\\GitHub\\solo-criado-bd\\base.ipynb Cell 21'\u001b[0m in \u001b[0;36m<cell line: 4>\u001b[1;34m()\u001b[0m\n\u001b[0;32m      <a href='vscode-notebook-cell:/c%3A/Users/m_fos/Documents/GitHub/solo-criado-bd/base.ipynb#ch0000020?line=0'>1</a>\u001b[0m \u001b[39mdef\u001b[39;00m \u001b[39mmzueuqrt\u001b[39m(listagem):\n\u001b[0;32m      <a href='vscode-notebook-cell:/c%3A/Users/m_fos/Documents/GitHub/solo-criado-bd/base.ipynb#ch0000020?line=1'>2</a>\u001b[0m     \u001b[39m\"\"\"Recebe uma listagem e adiciona\u001b[39;00m\n\u001b[0;32m      <a href='vscode-notebook-cell:/c%3A/Users/m_fos/Documents/GitHub/solo-criado-bd/base.ipynb#ch0000020?line=2'>3</a>\u001b[0m \u001b[39m    a coluna MZUEUQRT\"\"\"\u001b[39;00m\n\u001b[1;32m----> <a href='vscode-notebook-cell:/c%3A/Users/m_fos/Documents/GitHub/solo-criado-bd/base.ipynb#ch0000020?line=3'>4</a>\u001b[0m listagem[\u001b[39m\"\u001b[39m\u001b[39mMZUEUQRT\u001b[39m\u001b[39m\"\u001b[39m] \u001b[39m=\u001b[39m \u001b[39mint\u001b[39m(\u001b[39mstr\u001b[39m(listagem[\u001b[39m\"\u001b[39m\u001b[39mMZ\u001b[39m\u001b[39m\"\u001b[39m]) \u001b[39m+\u001b[39m \u001b[39mstr\u001b[39m(listagem[\u001b[39m\"\u001b[39m\u001b[39mUEU\u001b[39m\u001b[39m\"\u001b[39m]) \u001b[39m+\u001b[39m \u001b[39mstr\u001b[39m(listagem[\u001b[39m\"\u001b[39m\u001b[39mQRT\u001b[39m\u001b[39m\"\u001b[39m]))\n\u001b[0;32m      <a href='vscode-notebook-cell:/c%3A/Users/m_fos/Documents/GitHub/solo-criado-bd/base.ipynb#ch0000020?line=5'>6</a>\u001b[0m \u001b[39mreturn\u001b[39;00m listagem\n",
      "\u001b[1;31mNameError\u001b[0m: name 'listagem' is not defined"
     ]
    }
   ],
   "source": [
    "#def mzueuqrt(listagem):\n",
    "#    \"\"\"Recebe uma listagem e adiciona\n",
    "#    a coluna MZUEUQRT\"\"\"\n",
    "#listagem[\"MZUEUQRT\"] = int(str(listagem[\"MZ\"]) + str(listagem[\"UEU\"]) + str(listagem[\"QRT\"]))\n",
    "#\n",
    "#return listagem\n",
    "    "
   ]
  },
  {
   "cell_type": "markdown",
   "metadata": {},
   "source": [
    "Agora uma função que recebe um diretório que contém várias listas de excel, checa qual a última planinha adicionada pelo programa (baseado no nome padronizado), e se a planilha não tiver sido adicionada ao banco de dados, adiciona-a. Retorna uma lista contendo vários dataframes"
   ]
  },
  {
   "cell_type": "code",
   "execution_count": 13,
   "metadata": {},
   "outputs": [],
   "source": [
    "def bd_creator():\n",
    "    files = os.listdir(\"./dados/ListagemSoloCriado/XLSX\")\n",
    "    bd_estq = []\n",
    "    estq_list = open(\"./dados/estq_list.txt\", 'ra')\n",
    "    #if estq_list == \"\":\n",
    "\n",
    "\n",
    "    for planilha in files:\n",
    "        bd_estq.append(join_sheet(planilha))\n",
    "    \n",
    "    return bd_estq\n"
   ]
  },
  {
   "cell_type": "code",
   "execution_count": 15,
   "metadata": {},
   "outputs": [
    {
     "ename": "FileNotFoundError",
     "evalue": "[WinError 3] O sistema não pode encontrar o caminho especificado: 'c:\\\\Users\\\\m_fos\\\\Documents\\\\GitHub\\\\solo-criado-bddados\\\\ListagemSoloCriado\\\\XLSX'",
     "output_type": "error",
     "traceback": [
      "\u001b[1;31m---------------------------------------------------------------------------\u001b[0m",
      "\u001b[1;31mFileNotFoundError\u001b[0m                         Traceback (most recent call last)",
      "\u001b[1;32mc:\\Users\\m_fos\\Documents\\GitHub\\solo-criado-bd\\base.ipynb Cell 21'\u001b[0m in \u001b[0;36m<cell line: 1>\u001b[1;34m()\u001b[0m\n\u001b[1;32m----> <a href='vscode-notebook-cell:/c%3A/Users/m_fos/Documents/GitHub/solo-criado-bd/base.ipynb#ch0000021?line=0'>1</a>\u001b[0m bd_estq \u001b[39m=\u001b[39m bd_creator()\n",
      "\u001b[1;32mc:\\Users\\m_fos\\Documents\\GitHub\\solo-criado-bd\\base.ipynb Cell 20'\u001b[0m in \u001b[0;36mbd_creator\u001b[1;34m()\u001b[0m\n\u001b[0;32m      <a href='vscode-notebook-cell:/c%3A/Users/m_fos/Documents/GitHub/solo-criado-bd/base.ipynb#ch0000020?line=0'>1</a>\u001b[0m \u001b[39mdef\u001b[39;00m \u001b[39mbd_creator\u001b[39m():\n\u001b[1;32m----> <a href='vscode-notebook-cell:/c%3A/Users/m_fos/Documents/GitHub/solo-criado-bd/base.ipynb#ch0000020?line=1'>2</a>\u001b[0m     files \u001b[39m=\u001b[39m os\u001b[39m.\u001b[39;49mlistdir(os\u001b[39m.\u001b[39;49mgetcwd() \u001b[39m+\u001b[39;49m \u001b[39m'\u001b[39;49m\u001b[39mdados\u001b[39;49m\u001b[39m\\\\\u001b[39;49;00m\u001b[39mListagemSoloCriado\u001b[39;49m\u001b[39m\\\\\u001b[39;49;00m\u001b[39mXLSX\u001b[39;49m\u001b[39m'\u001b[39;49m)\n\u001b[0;32m      <a href='vscode-notebook-cell:/c%3A/Users/m_fos/Documents/GitHub/solo-criado-bd/base.ipynb#ch0000020?line=2'>3</a>\u001b[0m     bd_estq \u001b[39m=\u001b[39m []\n\u001b[0;32m      <a href='vscode-notebook-cell:/c%3A/Users/m_fos/Documents/GitHub/solo-criado-bd/base.ipynb#ch0000020?line=3'>4</a>\u001b[0m     estq_list \u001b[39m=\u001b[39m \u001b[39mopen\u001b[39m(\u001b[39m\"\u001b[39m\u001b[39m./dados/estq_list.txt\u001b[39m\u001b[39m\"\u001b[39m, \u001b[39m'\u001b[39m\u001b[39mra\u001b[39m\u001b[39m'\u001b[39m)\n",
      "\u001b[1;31mFileNotFoundError\u001b[0m: [WinError 3] O sistema não pode encontrar o caminho especificado: 'c:\\\\Users\\\\m_fos\\\\Documents\\\\GitHub\\\\solo-criado-bddados\\\\ListagemSoloCriado\\\\XLSX'"
     ]
    }
   ],
   "source": [
    "bd_estq = bd_creator()"
   ]
  },
  {
   "cell_type": "code",
   "execution_count": null,
   "metadata": {},
   "outputs": [
    {
     "name": "stdout",
     "output_type": "stream",
     "text": [
      "   MZ  UEU  QRT estq_max_01\n",
      "0   1    2    1          AE\n",
      "1   1    2    3          AE\n",
      "2   1    2    5          AE\n",
      "3   1    4    3          AE\n",
      "4   1    4    5   1388.5667 \n",
      "\n",
      "   MZ  UEU  QRT estq_max_02\n",
      "0   1    2    3          AE\n",
      "1   1    2    5          AE\n",
      "2   1    4    3          AE\n",
      "3   1    4    5   1388.5667\n",
      "4   1    4    7   3136.8377 \n",
      "\n",
      "   MZ  UEU  QRT estq_max_03\n",
      "0   1    2    3          AE\n",
      "1   1    2    5          AE\n",
      "2   1    4    3          AE\n",
      "3   1    4    5   1388.5667\n",
      "4   1    4    7   3136.8377 \n",
      "\n",
      "   MZ  UEU  QRT estq_max_04\n",
      "0   1    2    3          AE\n",
      "1   1    2    5          AE\n",
      "2   1    4    3          AE\n",
      "3   1    4    5   1388.5667\n",
      "4   1    4    7   3136.8377 \n",
      "\n",
      "   MZ  UEU  QRT estq_max_05\n",
      "0   1    2    3          AE\n",
      "1   1    2    5          AE\n",
      "2   1    4    3          AE\n",
      "3   1    4    5   1388.5667\n",
      "4   1    4    7   3136.8377 \n",
      "\n",
      "   MZ  UEU  QRT estq_max_06\n",
      "0   1    2    3          AE\n",
      "1   1    2    5          AE\n",
      "2   1    4    3          AE\n",
      "3   1    4    5   1388.5667\n",
      "4   1    4    7   3136.8377 \n",
      "\n",
      "   MZ  UEU  QRT estq_max_07\n",
      "0   1    2    3          AE\n",
      "1   1    2    5          AE\n",
      "2   1    4    3          AE\n",
      "3   1    4    5   1388.5667\n",
      "4   1    4    7   3136.8377 \n",
      "\n",
      "   MZ  UEU  QRT estq_max_08\n",
      "0   1    2    3          AE\n",
      "1   1    2    5          AE\n",
      "2   1    4    3          AE\n",
      "3   1    4    5   1388.5667\n",
      "4   1    4    7   3136.8377 \n",
      "\n",
      "   MZ  UEU  QRT estq_max_09\n",
      "0   1    2    3          AE\n",
      "1   1    2    5          AE\n",
      "2   1    4    3          AE\n",
      "3   1    4    5   1388.5667\n",
      "4   1    4    7   3136.8377 \n",
      "\n",
      "   MZ  UEU  QRT estq_max_10\n",
      "0   1    2    3          AE\n",
      "1   1    2    5          AE\n",
      "2   1    4    3          AE\n",
      "3   1    4    5   1388.5667\n",
      "4   1    4    7   3136.8377 \n",
      "\n",
      "   MZ  UEU  QRT estq_max_11\n",
      "0   1    2    3          AE\n",
      "1   1    2    5          AE\n",
      "2   1    4    3          AE\n",
      "3   1    4    5   1388.5667\n",
      "4   1    4    7   3136.8377 \n",
      "\n",
      "   MZ  UEU  QRT estq_max_12\n",
      "0   1    2    3          AE\n",
      "1   1    2    5          AE\n",
      "2   1    4    3          AE\n",
      "3   1    4    5     2540.07\n",
      "4   1    4    7     4327.49 \n",
      "\n",
      "   MZ  UEU  QRT estq_max_13\n",
      "0   1    2    3          AE\n",
      "1   1    2    5          AE\n",
      "2   1    4    3          AE\n",
      "3   1    4    5     2540.07\n",
      "4   1    4    7     4327.49 \n",
      "\n",
      "   MZ  UEU  QRT estq_max_14\n",
      "0   1    2    3          AE\n",
      "1   1    2    5          AE\n",
      "2   1    4    3          AE\n",
      "3   1    4    5     2540.07\n",
      "4   1    4    7     4327.49 \n",
      "\n",
      "   MZ  UEU  QRT estq_max_15\n",
      "0   1    2    3          AE\n",
      "1   1    2    5          AE\n",
      "2   1    4    3          AE\n",
      "3   1    4    5     2540.07\n",
      "4   1    4    7     4327.49 \n",
      "\n",
      "   MZ  UEU  QRT estq_max_16\n",
      "0   1    2    3          AE\n",
      "1   1    2    5          AE\n",
      "2   1    4    3          AE\n",
      "3   1    4    5     2540.07\n",
      "4   1    4    7     4327.49 \n",
      "\n"
     ]
    }
   ],
   "source": [
    "for df in bd_estq:\n",
    "    print(df.head(5), \"\\n\")"
   ]
  },
  {
   "cell_type": "markdown",
   "metadata": {},
   "source": [
    "Coleta Feita! Agora para o próximo passo:"
   ]
  },
  {
   "cell_type": "code",
   "execution_count": null,
   "metadata": {},
   "outputs": [],
   "source": []
  }
 ],
 "metadata": {
  "interpreter": {
   "hash": "4e789ad8dc514a7ed0f24b48b0f9baee4c4660a5328bcde4373ca9458448a524"
  },
  "kernelspec": {
   "display_name": "Python 3.9.7 ('base')",
   "language": "python",
   "name": "python3"
  },
  "language_info": {
   "codemirror_mode": {
    "name": "ipython",
    "version": 3
   },
   "file_extension": ".py",
   "mimetype": "text/x-python",
   "name": "python",
   "nbconvert_exporter": "python",
   "pygments_lexer": "ipython3",
   "version": "3.10.4"
  },
  "orig_nbformat": 4
 },
 "nbformat": 4,
 "nbformat_minor": 2
}
