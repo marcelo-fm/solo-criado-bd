{
 "cells": [
  {
   "cell_type": "markdown",
   "metadata": {},
   "source": [
    "# Banco de dados Solo Criado: Take 1"
   ]
  },
  {
   "cell_type": "markdown",
   "metadata": {},
   "source": [
    "Vou fazer primeiro no notebook para ir testando, depois passo para o arquivo .py"
   ]
  },
  {
   "cell_type": "markdown",
   "metadata": {},
   "source": [
    "## Roadmap\n",
    "\n",
    "* Coletar listagem do site da prefeitura\n",
    "* Transformar pdf da listagem em xmls por este site\n",
    "* Transformar xmls em cvs\n",
    "* Carregar cvs de listagem para o banco de dados\n",
    "  * Extração;\n",
    "  * Exploração;\n",
    "  * Limpeza;\n",
    "  * Agregação;\n",
    "  * Visualização;\n",
    "  * Storytelling."
   ]
  },
  {
   "cell_type": "markdown",
   "metadata": {},
   "source": [
    "## Primeira parte: Coleta e transformação dos dados"
   ]
  },
  {
   "cell_type": "markdown",
   "metadata": {},
   "source": [
    "from [here](https://www.edureka.co/blog/web-scraping-with-python/): <br>\n",
    "Libraries used for Web Scraping  <br>\n",
    "As we know, Python is has various applications and there are different libraries for different purposes. In our further demonstration, we will be using the following libraries: <br>\n",
    "<br>\n",
    "**Selenium**:  Selenium is a web testing library. It is used to automate browser activities. <br>\n",
    "**BeautifulSoup**: Beautiful Soup is a Python package for parsing HTML and XML documents. It creates parse trees that is helpful to extract the data easily.<br>\n",
    "Pandas: Pandas is a library used for data manipulation and analysis. It is used to extract the data and store it in the desired format. "
   ]
  },
  {
   "cell_type": "code",
   "execution_count": 20,
   "metadata": {},
   "outputs": [
    {
     "data": {
      "text/plain": [
       "87926"
      ]
     },
     "execution_count": 20,
     "metadata": {},
     "output_type": "execute_result"
    }
   ],
   "source": [
    "import requests as rq\n",
    "\n",
    "url = 'http://www2.portoalegre.rs.gov.br/edificapoa/default.php?p_secao=1445'\n",
    "r = rq.get(url, allow_redirects=True)\n",
    "open('estoques.html', 'wb').write(r.content)"
   ]
  },
  {
   "cell_type": "markdown",
   "metadata": {},
   "source": [
    "Se eu conseguir baixar a pagina, posso usar o BeautifulSoup para separar os links de download das listagens, e comparar com os links já armazenados talvez"
   ]
  },
  {
   "cell_type": "markdown",
   "metadata": {},
   "source": [
    "## Segunda parte: a criação do banco de dados"
   ]
  },
  {
   "cell_type": "markdown",
   "metadata": {},
   "source": []
  }
 ],
 "metadata": {
  "interpreter": {
   "hash": "4e789ad8dc514a7ed0f24b48b0f9baee4c4660a5328bcde4373ca9458448a524"
  },
  "kernelspec": {
   "display_name": "Python 3.9.7 ('base')",
   "language": "python",
   "name": "python3"
  },
  "language_info": {
   "codemirror_mode": {
    "name": "ipython",
    "version": 3
   },
   "file_extension": ".py",
   "mimetype": "text/x-python",
   "name": "python",
   "nbconvert_exporter": "python",
   "pygments_lexer": "ipython3",
   "version": "3.10.4"
  },
  "orig_nbformat": 4
 },
 "nbformat": 4,
 "nbformat_minor": 2
}
