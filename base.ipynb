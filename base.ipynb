{
 "cells": [
  {
   "cell_type": "markdown",
   "metadata": {},
   "source": [
    "# Banco de dados Solo Criado: Take 1"
   ]
  },
  {
   "cell_type": "markdown",
   "metadata": {},
   "source": [
    "Vou fazer primeiro no notebook para ir testando, depois passo para o arquivo .py"
   ]
  },
  {
   "cell_type": "markdown",
   "metadata": {},
   "source": [
    "## Roadmap\n",
    "\n",
    "* Coletar listagem do site da prefeitura\n",
    "* Transformar pdf da listagem em xmls por este site\n",
    "* Transformar xmls em cvs\n",
    "* Carregar cvs de listagem para o banco de dados\n",
    "  * Extração;\n",
    "  * Exploração;\n",
    "  * Limpeza;\n",
    "  * Agregação;\n",
    "  * Visualização;\n",
    "  * Storytelling."
   ]
  },
  {
   "cell_type": "markdown",
   "metadata": {},
   "source": [
    "## Primeira parte: Coleta e transformação dos dados"
   ]
  },
  {
   "cell_type": "markdown",
   "metadata": {},
   "source": [
    "from [here](https://www.edureka.co/blog/web-scraping-with-python/): <br>\n",
    "Libraries used for Web Scraping  <br>\n",
    "As we know, Python is has various applications and there are different libraries for different purposes. In our further demonstration, we will be using the following libraries: <br>\n",
    "<br>\n",
    "**Selenium**:  Selenium is a web testing library. It is used to automate browser activities. <br>\n",
    "**BeautifulSoup**: Beautiful Soup is a Python package for parsing HTML and XML documents. It creates parse trees that is helpful to extract the data easily.<br>\n",
    "Pandas: Pandas is a library used for data manipulation and analysis. It is used to extract the data and store it in the desired format. "
   ]
  },
  {
   "cell_type": "code",
   "execution_count": 1,
   "metadata": {},
   "outputs": [
    {
     "name": "stderr",
     "output_type": "stream",
     "text": [
      "C:\\Users\\m_fos\\AppData\\Local\\Temp\\ipykernel_2184\\1226803711.py:7: DeprecationWarning: find_element_by_name is deprecated. Please use find_element(by=By.NAME, value=name) instead\n",
      "  elem = driver.find_element_by_name(\"q\")\n"
     ]
    }
   ],
   "source": [
    "from selenium import webdriver\n",
    "from selenium.webdriver.common.keys import Keys\n",
    "\n",
    "driver = webdriver.Edge()\n",
    "driver.get(\"http://www.python.org\")\n",
    "assert \"Python\" in driver.title\n",
    "elem = driver.find_element_by_name(\"q\")\n",
    "elem.clear()\n",
    "elem.send_keys(\"pycon\")\n",
    "elem.send_keys(Keys.RETURN)\n",
    "assert \"No results found.\" not in driver.page_source\n",
    "driver.close()"
   ]
  },
  {
   "cell_type": "code",
   "execution_count": 2,
   "metadata": {},
   "outputs": [],
   "source": [
    "from selenium import webdriver\n",
    "from selenium.webdriver.common.keys import Keys\n",
    "\n",
    "driver = webdriver.Edge()\n",
    "driver.get(\"http://www2.portoalegre.rs.gov.br/edificapoa/default.php?p_secao=1445\")\n",
    "assert \"EdificaPOA - EGLRF\" in driver.title\n",
    "#elem = driver.find_element_by_name(\"12\")\n",
    "#elem.clear()\n",
    "#elem.send_keys(\"Listagem 001\")\n",
    "#elem.send_keys(Keys.RETURN)\n",
    "#assert \"No results found.\" not in driver.page_source\n",
    "driver.close()"
   ]
  },
  {
   "cell_type": "markdown",
   "metadata": {},
   "source": [
    "## Segunda parte: a criação do banco de dados"
   ]
  },
  {
   "cell_type": "markdown",
   "metadata": {},
   "source": []
  }
 ],
 "metadata": {
  "interpreter": {
   "hash": "4e789ad8dc514a7ed0f24b48b0f9baee4c4660a5328bcde4373ca9458448a524"
  },
  "kernelspec": {
   "display_name": "Python 3.9.7 ('base')",
   "language": "python",
   "name": "python3"
  },
  "language_info": {
   "codemirror_mode": {
    "name": "ipython",
    "version": 3
   },
   "file_extension": ".py",
   "mimetype": "text/x-python",
   "name": "python",
   "nbconvert_exporter": "python",
   "pygments_lexer": "ipython3",
   "version": "3.10.4"
  },
  "orig_nbformat": 4
 },
 "nbformat": 4,
 "nbformat_minor": 2
}
