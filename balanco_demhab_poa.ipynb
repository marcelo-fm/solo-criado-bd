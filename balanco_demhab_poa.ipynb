{
 "cells": [
  {
   "cell_type": "code",
   "execution_count": 1,
   "id": "1a842167-930d-4741-bec0-05959767bf15",
   "metadata": {},
   "outputs": [],
   "source": [
    "import pandas as pd\n",
    "import os"
   ]
  },
  {
   "cell_type": "code",
   "execution_count": 2,
   "id": "43080e79-5cd6-4bbb-a7be-719c47758366",
   "metadata": {},
   "outputs": [
    {
     "name": "stdout",
     "output_type": "stream",
     "text": [
      "['2014_D.csv', '2014_R.csv', '2015_D.csv', '2015_R.csv', '2016_D.csv', '2016_R.csv', '2017_D.csv', '2017_R.csv', '2018_D.csv', '2018_R.csv', '2019_D.csv', '2019_R.csv', '2020_D.csv', '2020_R.csv', '2021_D.csv', '2021_R.csv', '2022_R.csv']\n"
     ]
    }
   ],
   "source": [
    "print(os.listdir(\"./dados/balanco_demhab\"))"
   ]
  },
  {
   "cell_type": "code",
   "execution_count": 5,
   "id": "7d471191",
   "metadata": {},
   "outputs": [
    {
     "name": "stdout",
     "output_type": "stream",
     "text": [
      "['2014_R.csv', '2015_R.csv', '2016_R.csv', '2017_R.csv', '2018_R.csv', '2019_R.csv', '2020_R.csv', '2021_R.csv'] \n",
      "\n",
      "['2014_D.csv', '2015_D.csv', '2016_D.csv', '2017_D.csv', '2018_D.csv', '2019_D.csv', '2020_D.csv', '2021_D.csv']\n"
     ]
    }
   ],
   "source": [
    "balanco = os.listdir(\"./dados/balanco_demhab\") # junta os dados de balanco do DEMHAB\n",
    "balanco.pop(-1) # remove a receita de 2022\n",
    "receita = []\n",
    "despesa = []\n",
    "\n",
    "for i in range(len(balanco)): # divide a lista balanco em receita e despesa\n",
    "    if i%2 == 0:\n",
    "        despesa.append(balanco[i])\n",
    "    else:\n",
    "        receita.append(balanco[i])\n",
    "\n",
    "print(receita, \"\\n\")\n",
    "print(despesa)"
   ]
  },
  {
   "cell_type": "code",
   "execution_count": 7,
   "id": "68832799",
   "metadata": {},
   "outputs": [
    {
     "ename": "SyntaxError",
     "evalue": "invalid syntax (659279374.py, line 1)",
     "output_type": "error",
     "traceback": [
      "\u001b[1;36m  Input \u001b[1;32mIn [7]\u001b[1;36m\u001b[0m\n\u001b[1;33m    pd.read_csv(\"./dados/balanco_demhab/2014_D.csv\") as despesa_2014\u001b[0m\n\u001b[1;37m                                                     ^\u001b[0m\n\u001b[1;31mSyntaxError\u001b[0m\u001b[1;31m:\u001b[0m invalid syntax\n"
     ]
    }
   ],
   "source": []
  },
  {
   "cell_type": "code",
   "execution_count": null,
   "id": "1d33ff62",
   "metadata": {},
   "outputs": [],
   "source": []
  }
 ],
 "metadata": {
  "interpreter": {
   "hash": "824b9c453d6171238427bc00c461c7ab01cfffeb68498210ad1b788c808a3d0f"
  },
  "kernelspec": {
   "display_name": "Python 3.9.12 ('base')",
   "language": "python",
   "name": "python3"
  },
  "language_info": {
   "codemirror_mode": {
    "name": "ipython",
    "version": 3
   },
   "file_extension": ".py",
   "mimetype": "text/x-python",
   "name": "python",
   "nbconvert_exporter": "python",
   "pygments_lexer": "ipython3",
   "version": "3.9.12"
  }
 },
 "nbformat": 4,
 "nbformat_minor": 5
}
